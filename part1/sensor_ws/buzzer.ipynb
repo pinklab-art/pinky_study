{
 "cells": [
  {
   "cell_type": "code",
   "execution_count": 1,
   "id": "834ba03d-e6bf-4279-b6e3-b2704c44a05b",
   "metadata": {},
   "outputs": [],
   "source": [
    "import RPi.GPIO as GPIO\n",
    "import time"
   ]
  },
  {
   "cell_type": "code",
   "execution_count": 2,
   "id": "204c5572-ba05-4cdd-8a31-0580304b7861",
   "metadata": {},
   "outputs": [],
   "source": [
    "# 사용할 핀 번호 설정\n",
    "buzzer = 22\n",
    "\n",
    "# GPIO 모드를 BCM으로 설정\n",
    "GPIO.setmode(GPIO.BCM)\n",
    "\n",
    "# 부저 핀을 출력 모드로 설정\n",
    "GPIO.setup(buzzer, GPIO.OUT)"
   ]
  },
  {
   "cell_type": "code",
   "execution_count": 3,
   "id": "988c5d01-c3b5-468d-8962-5470c649cbc3",
   "metadata": {},
   "outputs": [],
   "source": [
    "# GPIO 모드를 BCM으로 설정\n",
    "GPIO.setmode(GPIO.BCM)\n",
    "\n",
    "# 부저 핀을 출력 모드로 설정\n",
    "GPIO.setup(buzzer, GPIO.OUT)\n",
    "\n",
    "# 부저용 PWM 객체 생성, 초기 주파수는 2000Hz로 설정\n",
    "pwm = GPIO.PWM(buzzer, 2000)\n",
    "\n",
    "# PWM 신호 시작, 듀티사이클 35%로 설정\n",
    "pwm.start(35.0)\n",
    "\n",
    "# 0.5초 동안 대기 (소리가 나는 시간)\n",
    "time.sleep(0.5)\n",
    "\n",
    "# PWM 신호 중지\n",
    "pwm.stop()\n",
    "\n",
    "# 사용한 핀 정리\n",
    "GPIO.cleanup()"
   ]
  },
  {
   "cell_type": "code",
   "execution_count": 4,
   "id": "d6d6b0dd-ab7f-4cec-b105-2ada4b19a5d2",
   "metadata": {},
   "outputs": [],
   "source": [
    "GPIO.setmode(GPIO.BCM)\n",
    "\n",
    "GPIO.setup(buzzer, GPIO.OUT)\n",
    "\n",
    "pwm.start(35.0) \n",
    "\n",
    "time.sleep(1.5) # 0.5 -> 1.5\n",
    "\n",
    "pwm.stop()\n",
    "\n",
    "GPIO.cleanup()"
   ]
  },
  {
   "cell_type": "code",
   "execution_count": 5,
   "id": "9d0c27d7-86e5-4af5-b2b6-f76ffe8f34af",
   "metadata": {},
   "outputs": [],
   "source": [
    "GPIO.setmode(GPIO.BCM)\n",
    "\n",
    "GPIO.setup(buzzer, GPIO.OUT)\n",
    "\n",
    "pwm.start(70.0) # 35.0 -> 70.0\n",
    "\n",
    "time.sleep(1.5)\n",
    "\n",
    "pwm.stop()\n",
    "\n",
    "GPIO.cleanup()"
   ]
  },
  {
   "cell_type": "code",
   "execution_count": 6,
   "id": "ee9511e5-1b46-42d5-bdbf-22a87521d40e",
   "metadata": {},
   "outputs": [],
   "source": [
    "GPIO.setmode(GPIO.BCM)\n",
    "\n",
    "GPIO.setup(buzzer, GPIO.OUT)\n",
    "\n",
    "pwm.ChangeFrequency(500) # 2000 -> 500\n",
    "\n",
    "pwm.start(70.0)\n",
    "\n",
    "time.sleep(1.5)\n",
    "\n",
    "pwm.stop()\n",
    "\n",
    "GPIO.cleanup()"
   ]
  },
  {
   "cell_type": "code",
   "execution_count": 7,
   "id": "9cd6fff7-ad77-496a-ac89-ccdcb6076351",
   "metadata": {},
   "outputs": [],
   "source": [
    "def play_note(frequency, duration):\n",
    "    #pwm = GPIO.PWM(buzzer, frequency)\n",
    "    pwm.start(50)\n",
    "    pwm.ChangeFrequency(frequency)\n",
    "    time.sleep(duration)\n",
    "    pwm.stop()"
   ]
  },
  {
   "cell_type": "code",
   "execution_count": 8,
   "id": "84ebe7ff-92dc-4ff8-a479-2f249aaa3b85",
   "metadata": {},
   "outputs": [],
   "source": [
    "def play_note(frequency, duration):\n",
    "    #pwm = GPIO.PWM(buzzer, frequency)\n",
    "    pwm.start(50)\n",
    "    pwm.ChangeFrequency(frequency)\n",
    "    time.sleep(duration)\n",
    "    pwm.stop()"
   ]
  }
 ],
 "metadata": {
  "kernelspec": {
   "display_name": "Python 3 (ipykernel)",
   "language": "python",
   "name": "python3"
  },
  "language_info": {
   "codemirror_mode": {
    "name": "ipython",
    "version": 3
   },
   "file_extension": ".py",
   "mimetype": "text/x-python",
   "name": "python",
   "nbconvert_exporter": "python",
   "pygments_lexer": "ipython3",
   "version": "3.11.2"
  }
 },
 "nbformat": 4,
 "nbformat_minor": 5
}
