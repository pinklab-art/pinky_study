{
 "cells": [
  {
   "cell_type": "code",
   "execution_count": 1,
   "id": "e40d7295-30a0-43d5-9182-a9e8ea61e3cd",
   "metadata": {
    "scrolled": true
   },
   "outputs": [],
   "source": [
    "from pinkylib import IMU\n",
    "from time import sleep\n",
    "\n",
    "imu = IMU()"
   ]
  },
  {
   "cell_type": "code",
   "execution_count": 2,
   "id": "c23158a2-9ccd-4e9c-b42b-7850d56c52bd",
   "metadata": {},
   "outputs": [
    {
     "name": "stdout",
     "output_type": "stream",
     "text": [
      "Accelerometer: Ax=-0.0, Ay=0.03, Az=1.16\n",
      "Gyroscope: Gx=0.31, Gy=0.25, Gz=-0.1\n",
      "Accelerometer: Ax=0.0, Ay=0.03, Az=1.15\n",
      "Gyroscope: Gx=0.31, Gy=0.29, Gz=-0.06\n",
      "Accelerometer: Ax=-0.0, Ay=0.03, Az=1.15\n",
      "Gyroscope: Gx=0.31, Gy=0.24, Gz=-0.09\n",
      "Accelerometer: Ax=0.0, Ay=0.03, Az=1.15\n",
      "Gyroscope: Gx=0.34, Gy=0.22, Gz=-0.1\n",
      "Process stopped by user\n"
     ]
    }
   ],
   "source": [
    "try:\n",
    "    while True:\n",
    "        # 가속도 데이터 읽기\n",
    "        accel_data = imu.get_accel()\n",
    "        print(f\"Accelerometer: Ax={accel_data[0]}, Ay={accel_data[1]}, Az={accel_data[2]}\")\n",
    "            \n",
    "        # 자이로 데이터 읽기\n",
    "        gyro_data = imu.get_gyro()\n",
    "        print(f\"Gyroscope: Gx={gyro_data[0]}, Gy={gyro_data[1]}, Gz={gyro_data[2]}\")\n",
    "            \n",
    "        # 주기적인 딜레이\n",
    "        sleep(1)\n",
    "\n",
    "except KeyboardInterrupt:\n",
    "    # 사용자 인터럽트 시 종료\n",
    "    print(\"Process stopped by user\")\n",
    "\n",
    "finally:\n",
    "    # SMBus 자원 해제\n",
    "    imu.bus.close()"
   ]
  },
  {
   "cell_type": "code",
   "execution_count": null,
   "id": "63d157ec-2f82-4745-924a-29bf0f36dde7",
   "metadata": {},
   "outputs": [],
   "source": []
  }
 ],
 "metadata": {
  "kernelspec": {
   "display_name": "Python 3 (ipykernel)",
   "language": "python",
   "name": "python3"
  },
  "language_info": {
   "codemirror_mode": {
    "name": "ipython",
    "version": 3
   },
   "file_extension": ".py",
   "mimetype": "text/x-python",
   "name": "python",
   "nbconvert_exporter": "python",
   "pygments_lexer": "ipython3",
   "version": "3.11.2"
  }
 },
 "nbformat": 4,
 "nbformat_minor": 5
}
