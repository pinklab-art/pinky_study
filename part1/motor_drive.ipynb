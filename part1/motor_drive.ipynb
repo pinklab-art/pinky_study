{
 "cells": [
  {
   "cell_type": "code",
   "execution_count": 1,
   "id": "602c1967-b454-48b8-ac5d-db6bb05fe73b",
   "metadata": {},
   "outputs": [],
   "source": [
    "import RPi.GPIO as GPIO\n",
    "from time import sleep"
   ]
  },
  {
   "cell_type": "code",
   "execution_count": 2,
   "id": "f5f649d8-3687-401c-b9ff-237774533f55",
   "metadata": {},
   "outputs": [],
   "source": [
    "# GPIO 핀 번호 설정\n",
    "IN1 = 17\n",
    "IN2 = 27\n",
    "ENA = 18\n",
    "IN3 = 5\n",
    "IN4 = 6\n",
    "ENB = 13\n",
    "STBY = 25"
   ]
  },
  {
   "cell_type": "code",
   "execution_count": 3,
   "id": "27ae20f6-b943-413f-a195-1cd98cfccdf8",
   "metadata": {},
   "outputs": [],
   "source": [
    "# GPIO 초기 설정 함수\n",
    "def setup_gpio():\n",
    "    # BCM 모드 설정\n",
    "    GPIO.setmode(GPIO.BCM)\n",
    "    # 모터 제어핀 출력 모드로 설정\n",
    "    GPIO.setup(IN1, GPIO.OUT)\n",
    "    GPIO.setup(IN2, GPIO.OUT)\n",
    "    GPIO.setup(ENA, GPIO.OUT)\n",
    "    GPIO.setup(IN3, GPIO.OUT)\n",
    "    GPIO.setup(IN4, GPIO.OUT)\n",
    "    GPIO.setup(ENB, GPIO.OUT)\n",
    "    GPIO.setup(STBY, GPIO.OUT)"
   ]
  },
  {
   "cell_type": "code",
   "execution_count": 4,
   "id": "b068d169-fe04-4f9d-8e83-05bcdbaafb55",
   "metadata": {},
   "outputs": [],
   "source": [
    "# PWM 초기화 및 시작\n",
    "def start_pwm():\n",
    "    global pwmA, pwmB\n",
    "    # A와 B 모터용 PWM을 1000Hz로 설정\n",
    "    pwmA = GPIO.PWM(ENA, 1000)\n",
    "    pwmB = GPIO.PWM(ENB, 1000)\n",
    "    pwmA.start(0)  # 초기 듀티 사이클을 0으로 시작\n",
    "    pwmB.start(0)"
   ]
  },
  {
   "cell_type": "code",
   "execution_count": 5,
   "id": "3039ffa2-950e-4525-9e80-bc7dc92f3c41",
   "metadata": {},
   "outputs": [],
   "source": [
    "# 모터 방향 설정 함수\n",
    "def set_motor(channel, state):\n",
    "    if channel == 'A':\n",
    "        GPIO.output(IN1, state[0])\n",
    "        GPIO.output(IN2, state[1])\n",
    "    elif channel == 'B':\n",
    "        GPIO.output(IN3, state[0])\n",
    "        GPIO.output(IN4, state[1])"
   ]
  },
  {
   "cell_type": "code",
   "execution_count": 6,
   "id": "fb5f500b-968a-4496-8d34-83a2a058490b",
   "metadata": {},
   "outputs": [],
   "source": [
    "# 모터 전진\n",
    "def motor_forward(channel, speed):\n",
    "    set_motor(channel, (GPIO.HIGH, GPIO.LOW))  # 정방향 회전을 위해 설정\n",
    "    if channel == 'A':\n",
    "        pwmA.ChangeDutyCycle(speed)  # A 모터 속도 설정\n",
    "    elif channel == 'B':\n",
    "        pwmB.ChangeDutyCycle(speed)  # B 모터 속도 설정"
   ]
  },
  {
   "cell_type": "code",
   "execution_count": 7,
   "id": "30b148b2-e1a1-42e2-adb2-a55a614e3c20",
   "metadata": {},
   "outputs": [],
   "source": [
    "# 모터 후진\n",
    "def motor_backward(channel, speed):\n",
    "    set_motor(channel, (GPIO.LOW, GPIO.HIGH))  # 역방향 회전을 위해 설정\n",
    "    if channel == 'A':\n",
    "        pwmA.ChangeDutyCycle(speed)  # A 모터 속도 설정\n",
    "    elif channel == 'B':\n",
    "        pwmB.ChangeDutyCycle(speed)  # B 모터 속도 설정"
   ]
  },
  {
   "cell_type": "code",
   "execution_count": 8,
   "id": "bc3aa3af-f16e-47ff-9a6e-397e57a68ce0",
   "metadata": {},
   "outputs": [],
   "source": [
    "# 모터 제어 루프 함수\n",
    "def motor_control_loop():\n",
    "    for _ in range(2):\n",
    "        # 모터 드라이버 활성화\n",
    "        GPIO.output(STBY, GPIO.HIGH)\n",
    "        motor_forward('A', 50)  # A 모터 전진\n",
    "        motor_forward('B', 50)  # B 모터 전진\n",
    "        sleep(1)  # 1초 대기\n",
    "        motor_backward('A', 50)  # A 모터 후진\n",
    "        motor_backward('B', 50)  # B 모터 후진\n",
    "        sleep(1)  # 1초 대기"
   ]
  },
  {
   "cell_type": "code",
   "execution_count": 9,
   "id": "5ee9ee31-6ebd-41b0-941c-7dfa1637b38e",
   "metadata": {},
   "outputs": [],
   "source": [
    "# 정리 함수\n",
    "def cleanup():\n",
    "    #global pwmA, pwmB\n",
    "    pwmA.stop()  # A 모터 PWM 정지\n",
    "    pwmB.stop()  # B 모터 PWM 정지\n",
    "    GPIO.cleanup()  # GPIO 핀 해제"
   ]
  },
  {
   "cell_type": "code",
   "execution_count": 10,
   "id": "02f73d1e-478f-4c22-bca4-f8857447ae7e",
   "metadata": {},
   "outputs": [],
   "source": [
    "setup_gpio()          # GPIO 초기 설정\n",
    "start_pwm()           # PWM 시작\n",
    "motor_control_loop()  # 모터 제어 루프 실행\n",
    "cleanup()             # 종료 후 정리"
   ]
  },
  {
   "cell_type": "code",
   "execution_count": null,
   "id": "d5910527-ab3a-4879-8302-750fbea5dcd9",
   "metadata": {},
   "outputs": [],
   "source": [
    "from pinkylib import Pinky\n",
    "from time import sleep\n",
    "\n",
    "def motor_example():\n",
    "    robot = Pinky()\n",
    "    robot.enable_motor()\n",
    "    robot.start_motor()\n",
    "\n",
    "    try:\n",
    "        print(\"Moving forward\")\n",
    "        robot.move_front(L=50, R=50)\n",
    "        time.sleep(2)\n",
    "\n",
    "    finally:\n",
    "        robot.stop_motor()\n",
    "        robot.disable_motor()\n",
    "        robot.clean()\n",
    "\n",
    "motor_example()"
   ]
  },
  {
   "cell_type": "code",
   "execution_count": null,
   "id": "4923e4e7-7818-4f10-82b0-c4357f3ae4c8",
   "metadata": {},
   "outputs": [],
   "source": [
    "from pinkylib import Pinky\n",
    "import time\n",
    "\n",
    "pinky = Pinky()\n",
    "\n",
    "pinky.enable_motor()\n",
    "pinky.start_motor(2000)\n",
    "\n",
    "pinky.move(25, 25)\n",
    "time.sleep(1)\n",
    "pinky.stop()\n",
    "\n",
    "pinky.disable_motor()\n",
    "pinky.stop_motor()\n",
    "pinky.clean()"
   ]
  },
  {
   "cell_type": "code",
   "execution_count": null,
   "id": "088bb23a-56e3-4a65-9963-05201af0d954",
   "metadata": {},
   "outputs": [],
   "source": [
    "from pinkylib import Pinky\n",
    "import time\n",
    "\n",
    "pinky = Pinky()\n",
    "\n",
    "pinky.enable_motor()\n",
    "pinky.start_motor()\n",
    "\n",
    "pinky.move_front(25, 25)\n",
    "time.sleep(1)\n",
    "pinky.stop()\n",
    "\n",
    "pinky.disable_motor()\n",
    "pinky.stop_motor()\n",
    "pinky.clean()"
   ]
  },
  {
   "cell_type": "code",
   "execution_count": null,
   "id": "b28691ab-233b-49ef-a475-41ddd957162c",
   "metadata": {},
   "outputs": [],
   "source": [
    "from pinkylib import Pinky\n",
    "\n",
    "pinky = Pinky()\n",
    "pinky.buzzer_start()\n",
    "pinky.buzzer(3)\n",
    "pinky.buzzer_stop()\n",
    "pinky.clean()"
   ]
  },
  {
   "cell_type": "code",
   "execution_count": null,
   "id": "ec287d27-a81a-43ca-9493-c76453ac3e08",
   "metadata": {},
   "outputs": [],
   "source": [
    "from pinkylib import Pinky\n",
    "import time\n",
    "\n",
    "pinky = Pinky()\n",
    "\n",
    "while True:\n",
    "    dist = pinky.get_dist()\n",
    "    print(f\"{dist:.2f} cm\")\n",
    "    time.sleep(1)\n",
    "    \n",
    "pinky.clean()"
   ]
  },
  {
   "cell_type": "code",
   "execution_count": null,
   "id": "589bdcd9-4a4a-4180-a716-ef917eca8dfa",
   "metadata": {},
   "outputs": [],
   "source": []
  },
  {
   "cell_type": "code",
   "execution_count": null,
   "id": "9d033dc9-7f8e-47b7-aa43-69cf7d03ce7d",
   "metadata": {},
   "outputs": [],
   "source": []
  }
 ],
 "metadata": {
  "kernelspec": {
   "display_name": "Python 3 (ipykernel)",
   "language": "python",
   "name": "python3"
  },
  "language_info": {
   "codemirror_mode": {
    "name": "ipython",
    "version": 3
   },
   "file_extension": ".py",
   "mimetype": "text/x-python",
   "name": "python",
   "nbconvert_exporter": "python",
   "pygments_lexer": "ipython3",
   "version": "3.11.2"
  }
 },
 "nbformat": 4,
 "nbformat_minor": 5
}
