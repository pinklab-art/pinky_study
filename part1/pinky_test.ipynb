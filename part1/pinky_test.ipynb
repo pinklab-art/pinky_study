{
 "cells": [
  {
   "cell_type": "markdown",
   "id": "5994bfe3-bd7d-4ffe-9323-273e5485617d",
   "metadata": {},
   "source": [
    "### 부저"
   ]
  },
  {
   "cell_type": "code",
   "execution_count": null,
   "id": "86c90c40-c666-4ce1-aa53-d552cd0353fe",
   "metadata": {},
   "outputs": [],
   "source": [
    "from pinkylib import Pinky\n",
    "\n",
    "pinky = Pinky()\n",
    "pinky.buzzer_start()\n",
    "pinky.buzzer(3)\n",
    "pinky.buzzer_stop()\n",
    "pinky.clean()"
   ]
  },
  {
   "cell_type": "markdown",
   "id": "395f7f52-bc1f-4c80-96fe-71a2fa31373b",
   "metadata": {},
   "source": [
    "### 초음파"
   ]
  },
  {
   "cell_type": "code",
   "execution_count": null,
   "id": "68131a52-472f-44df-a998-2225ba1b0dee",
   "metadata": {
    "scrolled": true
   },
   "outputs": [],
   "source": [
    "from pinkylib import Pinky\n",
    "import time\n",
    "\n",
    "pinky = Pinky()\n",
    "\n",
    "for i in range(5):\n",
    "    dist = pinky.get_dist()\n",
    "    print(f\"{dist:.2f} cm\")\n",
    "    time.sleep(0.5)\n",
    "    \n",
    "pinky.clean()"
   ]
  },
  {
   "cell_type": "markdown",
   "id": "bf607f94-0fbd-45f7-8946-b5ae2d2dd0cf",
   "metadata": {},
   "source": [
    "### IR"
   ]
  },
  {
   "cell_type": "code",
   "execution_count": null,
   "id": "007eb6d0-fc94-49f6-92a8-b8e9a6edeac0",
   "metadata": {
    "scrolled": true
   },
   "outputs": [],
   "source": [
    "from pinkylib import Pinky\n",
    "import time\n",
    "\n",
    "pinky = Pinky()\n",
    "\n",
    "for i in range(10):\n",
    "    ir_1, ir_2, ir_3 = pinky.read_ir()\n",
    "    print(f\"ir_1: {ir_1}, ir_2: {ir_2}, ir_3: {ir_3}\")\n",
    "    time.sleep(0.5)\n",
    "    \n",
    "pinky.clean()"
   ]
  },
  {
   "cell_type": "markdown",
   "id": "6ec0c950-ea39-4994-ade6-686f77e0cdc7",
   "metadata": {},
   "source": [
    "### IMU"
   ]
  },
  {
   "cell_type": "code",
   "execution_count": null,
   "id": "97167cfe-80ef-4dc8-bb2e-ea985c37eb67",
   "metadata": {
    "scrolled": true
   },
   "outputs": [],
   "source": [
    "from pinkylib import IMU\n",
    "import time\n",
    "\n",
    "imu = IMU()\n",
    "\n",
    "try:\n",
    "    for i in range(5):\n",
    "        # 가속도 데이터 읽기\n",
    "        accel_data = imu.get_accel()\n",
    "        print(f\"Accelerometer: Ax={accel_data[0]}, Ay={accel_data[1]}, Az={accel_data[2]}\")\n",
    "            \n",
    "        # 자이로 데이터 읽기\n",
    "        gyro_data = imu.get_gyro()\n",
    "        print(f\"Gyroscope: Gx={gyro_data[0]}, Gy={gyro_data[1]}, Gz={gyro_data[2]}\")\n",
    "            \n",
    "        # 주기적인 딜레이\n",
    "        time.sleep(0.5)\n",
    "\n",
    "except KeyboardInterrupt:\n",
    "    # 사용자 인터럽트 시 종료\n",
    "    print(\"Process stopped by user\")\n",
    "\n",
    "finally:\n",
    "    # SMBus 자원 해제\n",
    "    imu.close()"
   ]
  },
  {
   "cell_type": "markdown",
   "id": "568a3dbd-dc99-40b4-ab07-eff4c0f96b5c",
   "metadata": {},
   "source": [
    "### 모터"
   ]
  },
  {
   "cell_type": "code",
   "execution_count": 1,
   "id": "8c56263f-5d7f-4543-83ed-85d137b18c56",
   "metadata": {},
   "outputs": [
    {
     "ename": "RuntimeError",
     "evalue": "현재 GPIO가 사용중 입니다. 사용 중인 커널을 종료 후 다시 실행해 주세요",
     "output_type": "error",
     "traceback": [
      "\u001b[0;31m---------------------------------------------------------------------------\u001b[0m",
      "\u001b[0;31merror\u001b[0m                                     Traceback (most recent call last)",
      "File \u001b[0;32m~/venv/pinky/lib/python3.11/site-packages/pinkylib/pinkylib.py:32\u001b[0m, in \u001b[0;36mPinky.__init__\u001b[0;34m(self)\u001b[0m\n\u001b[1;32m     30\u001b[0m \u001b[38;5;28;01mtry\u001b[39;00m:\n\u001b[1;32m     31\u001b[0m     \u001b[38;5;66;03m#us sensor\u001b[39;00m\n\u001b[0;32m---> 32\u001b[0m     \u001b[43mGPIO\u001b[49m\u001b[38;5;241;43m.\u001b[39;49m\u001b[43msetup\u001b[49m\u001b[43m(\u001b[49m\u001b[43mTRIG\u001b[49m\u001b[43m,\u001b[49m\u001b[43m \u001b[49m\u001b[43mGPIO\u001b[49m\u001b[38;5;241;43m.\u001b[39;49m\u001b[43mOUT\u001b[49m\u001b[43m)\u001b[49m\n\u001b[1;32m     33\u001b[0m     GPIO\u001b[38;5;241m.\u001b[39msetup(ECHO, GPIO\u001b[38;5;241m.\u001b[39mIN)\n",
      "File \u001b[0;32m~/venv/pinky/lib/python3.11/site-packages/RPi/GPIO/__init__.py:704\u001b[0m, in \u001b[0;36msetup\u001b[0;34m(chanlist, direction, pull_up_down, initial)\u001b[0m\n\u001b[1;32m    703\u001b[0m \u001b[38;5;28;01mif\u001b[39;00m initial \u001b[38;5;129;01mis\u001b[39;00m \u001b[38;5;28;01mNone\u001b[39;00m:\n\u001b[0;32m--> 704\u001b[0m     initial \u001b[38;5;241m=\u001b[39m _check(\u001b[43mlgpio\u001b[49m\u001b[38;5;241;43m.\u001b[39;49m\u001b[43mgpio_read\u001b[49m\u001b[43m(\u001b[49m\u001b[43m_chip\u001b[49m\u001b[43m,\u001b[49m\u001b[43m \u001b[49m\u001b[43mgpio\u001b[49m\u001b[43m)\u001b[49m)\n\u001b[1;32m    705\u001b[0m _check(lgpio\u001b[38;5;241m.\u001b[39mgpio_claim_output(\n\u001b[1;32m    706\u001b[0m     _chip, gpio, initial, lgpio\u001b[38;5;241m.\u001b[39mSET_PULL_NONE))\n",
      "File \u001b[0;32m/usr/lib/python3/dist-packages/lgpio.py:903\u001b[0m, in \u001b[0;36mgpio_read\u001b[0;34m(handle, gpio)\u001b[0m\n\u001b[1;32m    888\u001b[0m \u001b[38;5;250m\u001b[39m\u001b[38;5;124;03m\"\"\"\u001b[39;00m\n\u001b[1;32m    889\u001b[0m \u001b[38;5;124;03mThis returns the level of a GPIO.\u001b[39;00m\n\u001b[1;32m    890\u001b[0m \n\u001b[0;32m   (...)\u001b[0m\n\u001b[1;32m    901\u001b[0m \n\u001b[1;32m    902\u001b[0m \u001b[38;5;124;03m\"\"\"\u001b[39;00m\n\u001b[0;32m--> 903\u001b[0m \u001b[38;5;28;01mreturn\u001b[39;00m \u001b[43m_u2i\u001b[49m\u001b[43m(\u001b[49m\u001b[43m_lgpio\u001b[49m\u001b[38;5;241;43m.\u001b[39;49m\u001b[43m_gpio_read\u001b[49m\u001b[43m(\u001b[49m\u001b[43mhandle\u001b[49m\u001b[38;5;241;43m&\u001b[39;49m\u001b[38;5;241;43m0xffff\u001b[39;49m\u001b[43m,\u001b[49m\u001b[43m \u001b[49m\u001b[43mgpio\u001b[49m\u001b[43m)\u001b[49m\u001b[43m)\u001b[49m\n",
      "File \u001b[0;32m/usr/lib/python3/dist-packages/lgpio.py:458\u001b[0m, in \u001b[0;36m_u2i\u001b[0;34m(status)\u001b[0m\n\u001b[1;32m    457\u001b[0m    \u001b[38;5;28;01mif\u001b[39;00m exceptions:\n\u001b[0;32m--> 458\u001b[0m       \u001b[38;5;28;01mraise\u001b[39;00m error(error_text(v))\n\u001b[1;32m    459\u001b[0m \u001b[38;5;28;01mreturn\u001b[39;00m v\n",
      "\u001b[0;31merror\u001b[0m: 'GPIO not allocated'",
      "\nDuring handling of the above exception, another exception occurred:\n",
      "\u001b[0;31mRuntimeError\u001b[0m                              Traceback (most recent call last)",
      "Cell \u001b[0;32mIn[1], line 4\u001b[0m\n\u001b[1;32m      1\u001b[0m \u001b[38;5;28;01mfrom\u001b[39;00m \u001b[38;5;21;01mpinkylib\u001b[39;00m \u001b[38;5;28;01mimport\u001b[39;00m Pinky\n\u001b[1;32m      2\u001b[0m \u001b[38;5;28;01mimport\u001b[39;00m \u001b[38;5;21;01mtime\u001b[39;00m\n\u001b[0;32m----> 4\u001b[0m pinky \u001b[38;5;241m=\u001b[39m \u001b[43mPinky\u001b[49m\u001b[43m(\u001b[49m\u001b[43m)\u001b[49m\n\u001b[1;32m      5\u001b[0m pinky\u001b[38;5;241m.\u001b[39menable_motor()\n\u001b[1;32m      6\u001b[0m pinky\u001b[38;5;241m.\u001b[39mstart_motor()\n",
      "File \u001b[0;32m~/venv/pinky/lib/python3.11/site-packages/pinkylib/pinkylib.py:53\u001b[0m, in \u001b[0;36mPinky.__init__\u001b[0;34m(self)\u001b[0m\n\u001b[1;32m     50\u001b[0m     GPIO\u001b[38;5;241m.\u001b[39msetup(STBY, GPIO\u001b[38;5;241m.\u001b[39mOUT)\n\u001b[1;32m     52\u001b[0m \u001b[38;5;28;01mexcept\u001b[39;00m \u001b[38;5;167;01mException\u001b[39;00m \u001b[38;5;28;01mas\u001b[39;00m e:\n\u001b[0;32m---> 53\u001b[0m     \u001b[38;5;28;01mraise\u001b[39;00m \u001b[38;5;167;01mRuntimeError\u001b[39;00m(\u001b[38;5;124m\"\u001b[39m\u001b[38;5;124m현재 GPIO가 사용중 입니다. 사용 중인 커널을 종료 후 다시 실행해 주세요\u001b[39m\u001b[38;5;124m\"\u001b[39m)\n\u001b[1;32m     55\u001b[0m \u001b[38;5;28mself\u001b[39m\u001b[38;5;241m.\u001b[39mmin_speed \u001b[38;5;241m=\u001b[39m \u001b[38;5;241m20\u001b[39m\n",
      "\u001b[0;31mRuntimeError\u001b[0m: 현재 GPIO가 사용중 입니다. 사용 중인 커널을 종료 후 다시 실행해 주세요"
     ]
    }
   ],
   "source": [
    "from pinkylib import Pinky\n",
    "import time\n",
    "\n",
    "pinky = Pinky()\n",
    "pinky.enable_motor()\n",
    "pinky.start_motor()\n",
    "\n",
    "pinky.move(25, 25)\n",
    "time.sleep(2)\n",
    "pinky.stop()\n",
    "\n",
    "pinky.disable_motor()\n",
    "pinky.stop_motor()\n",
    "pinky.clean()"
   ]
  },
  {
   "cell_type": "markdown",
   "id": "3d49873b-0a6a-42b1-a151-1a6064e9b942",
   "metadata": {},
   "source": [
    "### 카메라"
   ]
  },
  {
   "cell_type": "code",
   "execution_count": null,
   "id": "ff6c8fcf-85bd-4729-94b3-f15f2ac89cd4",
   "metadata": {},
   "outputs": [],
   "source": [
    "from pinkylib import Camera # 카메라 모듈 불러오기\n",
    "\n",
    "cam = Camera() # Camera 객체 생성\n",
    "cam.start() # 카메라 시작\n",
    "\n",
    "cam.play_jupyter(5)\n",
    "\n",
    "cam.close()"
   ]
  },
  {
   "cell_type": "markdown",
   "id": "af50c3d8-7204-41c1-aeef-d7c3cf2c0abd",
   "metadata": {},
   "source": [
    "### 배터리"
   ]
  },
  {
   "cell_type": "code",
   "execution_count": null,
   "id": "06ea71d4-3cba-40d5-a8af-b72ed8d200fb",
   "metadata": {},
   "outputs": [],
   "source": [
    "from pinkylib import Battery\n",
    "\n",
    "battery = Battery()\n",
    "\n",
    "print(battery.get_battery())\n",
    "\n",
    "battery.clean()"
   ]
  },
  {
   "cell_type": "code",
   "execution_count": null,
   "id": "32f26484-0146-445d-9581-de62ff7230a5",
   "metadata": {},
   "outputs": [],
   "source": []
  }
 ],
 "metadata": {
  "kernelspec": {
   "display_name": "Python 3 (ipykernel)",
   "language": "python",
   "name": "python3"
  },
  "language_info": {
   "codemirror_mode": {
    "name": "ipython",
    "version": 3
   },
   "file_extension": ".py",
   "mimetype": "text/x-python",
   "name": "python",
   "nbconvert_exporter": "python",
   "pygments_lexer": "ipython3",
   "version": "3.11.2"
  }
 },
 "nbformat": 4,
 "nbformat_minor": 5
}
