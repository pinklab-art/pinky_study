{
 "cells": [
  {
   "cell_type": "markdown",
   "id": "5994bfe3-bd7d-4ffe-9323-273e5485617d",
   "metadata": {},
   "source": [
    "### 부저"
   ]
  },
  {
   "cell_type": "code",
   "execution_count": 4,
   "id": "86c90c40-c666-4ce1-aa53-d552cd0353fe",
   "metadata": {},
   "outputs": [],
   "source": [
    "from pinkylib import Pinky\n",
    "\n",
    "pinky = Pinky()\n",
    "pinky.buzzer_start()\n",
    "pinky.buzzer(3)\n",
    "pinky.buzzer_stop()\n",
    "#pinky.clean()"
   ]
  },
  {
   "cell_type": "markdown",
   "id": "395f7f52-bc1f-4c80-96fe-71a2fa31373b",
   "metadata": {},
   "source": [
    "### 초음파"
   ]
  },
  {
   "cell_type": "code",
   "execution_count": 2,
   "id": "68131a52-472f-44df-a998-2225ba1b0dee",
   "metadata": {
    "scrolled": true
   },
   "outputs": [
    {
     "name": "stdout",
     "output_type": "stream",
     "text": [
      "9.51 cm\n",
      "9.59 cm\n",
      "5.28 cm\n",
      "11.23 cm\n",
      "3.97 cm\n"
     ]
    }
   ],
   "source": [
    "from pinkylib import Pinky\n",
    "import time\n",
    "\n",
    "pinky = Pinky()\n",
    "\n",
    "for i in range(5):\n",
    "    dist = pinky.get_dist()\n",
    "    print(f\"{dist:.2f} cm\")\n",
    "    time.sleep(0.5)\n",
    "    \n",
    "pinky.clean()"
   ]
  },
  {
   "cell_type": "markdown",
   "id": "bf607f94-0fbd-45f7-8946-b5ae2d2dd0cf",
   "metadata": {},
   "source": [
    "### IR"
   ]
  },
  {
   "cell_type": "code",
   "execution_count": null,
   "id": "007eb6d0-fc94-49f6-92a8-b8e9a6edeac0",
   "metadata": {
    "scrolled": true
   },
   "outputs": [],
   "source": [
    "from pinkylib import Pinky\n",
    "import time\n",
    "\n",
    "pinky = Pinky()\n",
    "\n",
    "for i in range(10):\n",
    "    ir_1, ir_2, ir_3 = pinky.read_ir()\n",
    "    print(f\"ir_1: {ir_1}, ir_2: {ir_2}, ir_3: {ir_3}\")\n",
    "    time.sleep(0.5)\n",
    "    \n",
    "pinky.clean()"
   ]
  },
  {
   "cell_type": "markdown",
   "id": "6ec0c950-ea39-4994-ade6-686f77e0cdc7",
   "metadata": {},
   "source": [
    "### IMU"
   ]
  },
  {
   "cell_type": "code",
   "execution_count": null,
   "id": "97167cfe-80ef-4dc8-bb2e-ea985c37eb67",
   "metadata": {
    "scrolled": true
   },
   "outputs": [],
   "source": [
    "from pinkylib import IMU\n",
    "import time\n",
    "\n",
    "imu = IMU()\n",
    "\n",
    "try:\n",
    "    for i in range(5):\n",
    "        # 가속도 데이터 읽기\n",
    "        accel_data = imu.get_accel()\n",
    "        print(f\"Accelerometer: Ax={accel_data[0]}, Ay={accel_data[1]}, Az={accel_data[2]}\")\n",
    "            \n",
    "        # 자이로 데이터 읽기\n",
    "        gyro_data = imu.get_gyro()\n",
    "        print(f\"Gyroscope: Gx={gyro_data[0]}, Gy={gyro_data[1]}, Gz={gyro_data[2]}\")\n",
    "            \n",
    "        # 주기적인 딜레이\n",
    "        time.sleep(0.5)\n",
    "\n",
    "except KeyboardInterrupt:\n",
    "    # 사용자 인터럽트 시 종료\n",
    "    print(\"Process stopped by user\")\n",
    "\n",
    "finally:\n",
    "    # SMBus 자원 해제\n",
    "    imu.close()"
   ]
  },
  {
   "cell_type": "markdown",
   "id": "568a3dbd-dc99-40b4-ab07-eff4c0f96b5c",
   "metadata": {},
   "source": [
    "### 모터"
   ]
  },
  {
   "cell_type": "code",
   "execution_count": 1,
   "id": "8c56263f-5d7f-4543-83ed-85d137b18c56",
   "metadata": {},
   "outputs": [],
   "source": [
    "from pinkylib import Pinky\n",
    "import time\n",
    "\n",
    "pinky = Pinky()\n",
    "pinky.enable_motor()\n",
    "pinky.start_motor()\n",
    "\n",
    "pinky.move(-25, -25)\n",
    "time.sleep(2)\n",
    "pinky.stop()\n",
    "\n",
    "pinky.disable_motor()\n",
    "pinky.stop_motor()\n",
    "pinky.clean()"
   ]
  },
  {
   "cell_type": "markdown",
   "id": "3d49873b-0a6a-42b1-a151-1a6064e9b942",
   "metadata": {},
   "source": [
    "### 카메라"
   ]
  },
  {
   "cell_type": "code",
   "execution_count": null,
   "id": "ff6c8fcf-85bd-4729-94b3-f15f2ac89cd4",
   "metadata": {},
   "outputs": [],
   "source": [
    "from pinkylib import Camera # 카메라 모듈 불러오기\n",
    "\n",
    "cam = Camera() # Camera 객체 생성\n",
    "cam.start() # 카메라 시작\n",
    "\n",
    "cam.play_jupyter(5)\n",
    "\n",
    "cam.close()"
   ]
  },
  {
   "cell_type": "markdown",
   "id": "af50c3d8-7204-41c1-aeef-d7c3cf2c0abd",
   "metadata": {},
   "source": [
    "### 배터리"
   ]
  },
  {
   "cell_type": "code",
   "execution_count": null,
   "id": "06ea71d4-3cba-40d5-a8af-b72ed8d200fb",
   "metadata": {},
   "outputs": [],
   "source": [
    "from pinkylib import Battery\n",
    "\n",
    "battery = Battery()\n",
    "\n",
    "print(battery.get_battery())\n",
    "\n",
    "battery.clean()"
   ]
  },
  {
   "cell_type": "code",
   "execution_count": null,
   "id": "32f26484-0146-445d-9581-de62ff7230a5",
   "metadata": {},
   "outputs": [],
   "source": []
  }
 ],
 "metadata": {
  "kernelspec": {
   "display_name": "Python 3 (ipykernel)",
   "language": "python",
   "name": "python3"
  },
  "language_info": {
   "codemirror_mode": {
    "name": "ipython",
    "version": 3
   },
   "file_extension": ".py",
   "mimetype": "text/x-python",
   "name": "python",
   "nbconvert_exporter": "python",
   "pygments_lexer": "ipython3",
   "version": "3.11.2"
  }
 },
 "nbformat": 4,
 "nbformat_minor": 5
}
