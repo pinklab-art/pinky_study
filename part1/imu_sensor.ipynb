{
 "cells": [
  {
   "cell_type": "code",
   "execution_count": 1,
   "id": "c46aff7a-17b5-4d87-9057-1498de5d11cf",
   "metadata": {},
   "outputs": [],
   "source": [
    "from time import sleep"
   ]
  },
  {
   "cell_type": "code",
   "execution_count": 2,
   "id": "e40d7295-30a0-43d5-9182-a9e8ea61e3cd",
   "metadata": {
    "scrolled": true
   },
   "outputs": [
    {
     "ename": "ModuleNotFoundError",
     "evalue": "No module named 'pinkylib'",
     "output_type": "error",
     "traceback": [
      "\u001b[0;31m---------------------------------------------------------------------------\u001b[0m",
      "\u001b[0;31mModuleNotFoundError\u001b[0m                       Traceback (most recent call last)",
      "Cell \u001b[0;32mIn[2], line 1\u001b[0m\n\u001b[0;32m----> 1\u001b[0m \u001b[38;5;28;01mfrom\u001b[39;00m \u001b[38;5;21;01mpinkylib\u001b[39;00m \u001b[38;5;28;01mimport\u001b[39;00m IMU\n\u001b[1;32m      3\u001b[0m imu \u001b[38;5;241m=\u001b[39m IMU()\n",
      "\u001b[0;31mModuleNotFoundError\u001b[0m: No module named 'pinkylib'"
     ]
    }
   ],
   "source": [
    "from pinkylib import IMU\n",
    "\n",
    "imu = IMU()"
   ]
  },
  {
   "cell_type": "code",
   "execution_count": null,
   "id": "c23158a2-9ccd-4e9c-b42b-7850d56c52bd",
   "metadata": {},
   "outputs": [],
   "source": [
    "try:\n",
    "    while True:\n",
    "        # 가속도 데이터 읽기\n",
    "        accel_data = imu.get_accel()\n",
    "        print(f\"Accelerometer: Ax={accel_data[0]}, Ay={accel_data[1]}, Az={accel_data[2]}\")\n",
    "            \n",
    "        # 자이로 데이터 읽기\n",
    "        gyro_data = imu.get_gyro()\n",
    "        print(f\"Gyroscope: Gx={gyro_data[0]}, Gy={gyro_data[1]}, Gz={gyro_data[2]}\")\n",
    "            \n",
    "        # 주기적인 딜레이\n",
    "        sleep(1)\n",
    "\n",
    "except KeyboardInterrupt:\n",
    "    # 사용자 인터럽트 시 종료\n",
    "    print(\"Process stopped by user\")\n",
    "\n",
    "finally:\n",
    "    # SMBus 자원 해제\n",
    "    imu.bus.close()"
   ]
  },
  {
   "cell_type": "code",
   "execution_count": null,
   "id": "5a40a1a2-5c41-4926-8a26-70eaf0d3cf17",
   "metadata": {},
   "outputs": [],
   "source": [
    "from smbus2 import SMBus\n",
    "from time import sleep\n",
    "\n",
    "# MPU6500 레지스터와 주소\n",
    "PWR_MGMT_1   = 0x6B\n",
    "SMPLRT_DIV   = 0x19\n",
    "CONFIG       = 0x1A\n",
    "GYRO_CONFIG  = 0x1B\n",
    "INT_ENABLE   = 0x38\n",
    "ACCEL_XOUT_H = 0x3B\n",
    "ACCEL_YOUT_H = 0x3D\n",
    "ACCEL_ZOUT_H = 0x3F\n",
    "GYRO_XOUT_H  = 0x43\n",
    "GYRO_YOUT_H  = 0x45\n",
    "GYRO_ZOUT_H  = 0x47"
   ]
  },
  {
   "cell_type": "code",
   "execution_count": null,
   "id": "85ace483-e1cc-4406-b06c-a32099aa805b",
   "metadata": {},
   "outputs": [],
   "source": [
    "class IMU:\n",
    "    def __init__(self, bus_num=1, device_address=0x68):\n",
    "        # I2C 버스를 열고 특정 장치 주소와 통신을 설정\n",
    "        self.bus = SMBus(bus_num)\n",
    "        self.device_address = device_address\n",
    "        self.init_device()  # 장치 초기화\n",
    "\n",
    "    def init_device(self):\n",
    "        # 샘플레이트 분주기 레지스터에 값 쓰기 (분주기 설정)\n",
    "        self.bus.write_byte_data(self.device_address, SMPLRT_DIV, 7)\n",
    "        # 전원 관리 1 레지스터에 값 쓰기 (장치 활성화)\n",
    "        self.bus.write_byte_data(self.device_address, PWR_MGMT_1, 1)\n",
    "        # 설정 레지스터에 값 쓰기 (DLPF: 대역폭 설정)\n",
    "        self.bus.write_byte_data(self.device_address, CONFIG, 0)\n",
    "        # 자이로 범위 설정 (±2000dps)\n",
    "        self.bus.write_byte_data(self.device_address, GYRO_CONFIG, 24)\n",
    "        # 인터럽트 활성화 설정\n",
    "        self.bus.write_byte_data(self.device_address, INT_ENABLE, 1)\n",
    "\n",
    "    def read_raw_data(self, addr):\n",
    "        # 지정된 주소의 상위 바이트 읽기\n",
    "        high = self.bus.read_byte_data(self.device_address, addr)\n",
    "        # 지정된 주소의 다음 바이트(하위 바이트) 읽기\n",
    "        low = self.bus.read_byte_data(self.device_address, addr + 1)\n",
    "        \n",
    "        # 상위 바이트와 하위 바이트를 하나의 16비트 값으로 만들기\n",
    "        value = (high << 8) | low\n",
    "        \n",
    "        # 16비트 정수로 변환 (부호 있는 값으로 범위 조정)\n",
    "        if value > 32768:\n",
    "            value -= 65536\n",
    "        return value\n",
    "        \n",
    "    def get_accel(self):\n",
    "        # 각 가속도 축에 대한 데이터 읽기\n",
    "        acc_x = self.read_raw_data(ACCEL_XOUT_H)\n",
    "        acc_y = self.read_raw_data(ACCEL_YOUT_H)\n",
    "        acc_z = self.read_raw_data(ACCEL_ZOUT_H)\n",
    "        \n",
    "        # 가속도 값을 중력 g 단위로 변환\n",
    "        Ax = round(acc_x / 16384.0, 2)\n",
    "        Ay = round(acc_y / 16384.0, 2)\n",
    "        Az = round(acc_z / 16384.0, 2)\n",
    "        \n",
    "        return Ax, Ay, Az\n",
    "        \n",
    "    def get_gyro(self):\n",
    "        # 각 자이로 축에 대한 데이터 읽기\n",
    "        gyro_x = self.read_raw_data(GYRO_XOUT_H)\n",
    "        gyro_y = self.read_raw_data(GYRO_YOUT_H)\n",
    "        gyro_z = self.read_raw_data(GYRO_ZOUT_H)\n",
    "        \n",
    "        # 자이로 값을 각속도 dps 단위로 변환\n",
    "        Gx = round(gyro_x / 131.0, 2)\n",
    "        Gy = round(gyro_y / 131.0, 2)\n",
    "        Gz = round(gyro_z / 131.0, 2)\n",
    "        \n",
    "        return Gx, Gy, Gz\n",
    "        \n",
    "    def get_accel_gyro_data(self):\n",
    "        # 가속도 원시 데이터 읽기\n",
    "        acc_x = self.read_raw_data(ACCEL_XOUT_H)\n",
    "        acc_y = self.read_raw_data(ACCEL_YOUT_H)\n",
    "        acc_z = self.read_raw_data(ACCEL_ZOUT_H)\n",
    "        \n",
    "        # 자이로 원시 데이터 읽기\n",
    "        gyro_x = self.read_raw_data(GYRO_XOUT_H)\n",
    "        gyro_y = self.read_raw_data(GYRO_YOUT_H)\n",
    "        gyro_z = self.read_raw_data(GYRO_ZOUT_H)\n",
    "\n",
    "        # 각 축에 대해 변환과 함께 가속도와 자이로 데이터 계산\n",
    "        Ax = acc_x / 16384.0  # X축 가속도[g]\n",
    "        Ay = acc_y / 16384.0  # Y축 가속도[g]\n",
    "        Az = acc_z / 16384.0  # Z축 가속도[g]\n",
    "\n",
    "        Gx = gyro_x / 131.0  # X축 자이로[dps]\n",
    "        Gy = gyro_y / 131.0  # Y축 자이로[dps]\n",
    "        Gz = gyro_z / 131.0  # Z축 자이로[dps]\n",
    "\n",
    "        # 결과를 딕셔너리 형태로 반환\n",
    "        return {\"Ax\": Ax, \"Ay\": Ay, \"Az\": Az, \"Gx\": Gx, \"Gy\": Gy, \"Gz\": Gz}"
   ]
  },
  {
   "cell_type": "code",
   "execution_count": null,
   "id": "33b9efb0-cecc-4a53-94ba-bf7707f7c9e1",
   "metadata": {},
   "outputs": [],
   "source": [
    "imu = IMU()"
   ]
  },
  {
   "cell_type": "code",
   "execution_count": null,
   "id": "c97cc88b-ad67-4804-90cf-97537bfc4f2c",
   "metadata": {},
   "outputs": [],
   "source": [
    "try:\n",
    "    while True:\n",
    "        # 가속도 데이터 읽기\n",
    "        accel_data = imu.get_accel()\n",
    "        print(f\"Accelerometer: Ax={accel_data[0]}, Ay={accel_data[1]}, Az={accel_data[2]}\")\n",
    "            \n",
    "        # 자이로 데이터 읽기\n",
    "        gyro_data = imu.get_gyro()\n",
    "        print(f\"Gyroscope: Gx={gyro_data[0]}, Gy={gyro_data[1]}, Gz={gyro_data[2]}\")\n",
    "            \n",
    "        # 주기적인 딜레이\n",
    "        sleep(1)\n",
    "\n",
    "except KeyboardInterrupt:\n",
    "    # 사용자 인터럽트 시 종료\n",
    "    print(\"Process stopped by user\")\n",
    "\n",
    "finally:\n",
    "    # SMBus 자원 해제\n",
    "    imu.bus.close()"
   ]
  },
  {
   "cell_type": "code",
   "execution_count": null,
   "id": "63d157ec-2f82-4745-924a-29bf0f36dde7",
   "metadata": {},
   "outputs": [],
   "source": []
  }
 ],
 "metadata": {
  "kernelspec": {
   "display_name": "Python 3 (ipykernel)",
   "language": "python",
   "name": "python3"
  },
  "language_info": {
   "codemirror_mode": {
    "name": "ipython",
    "version": 3
   },
   "file_extension": ".py",
   "mimetype": "text/x-python",
   "name": "python",
   "nbconvert_exporter": "python",
   "pygments_lexer": "ipython3",
   "version": "3.11.2"
  }
 },
 "nbformat": 4,
 "nbformat_minor": 5
}
