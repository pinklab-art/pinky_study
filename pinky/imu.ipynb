{
 "cells": [
  {
   "cell_type": "code",
   "execution_count": 1,
   "id": "f248f8fa-6ab2-439a-bd7a-67262b61bcd6",
   "metadata": {},
   "outputs": [],
   "source": [
    "from time import sleep"
   ]
  },
  {
   "cell_type": "code",
   "execution_count": 2,
   "id": "eee98645-ad68-4388-bdb1-a01b138e3c9a",
   "metadata": {},
   "outputs": [],
   "source": [
    "from pinkylib import IMU\n",
    "\n",
    "imu = IMU()"
   ]
  },
  {
   "cell_type": "code",
   "execution_count": 3,
   "id": "fc67620b-a0bf-4e0f-9083-66db174689a1",
   "metadata": {},
   "outputs": [
    {
     "name": "stdout",
     "output_type": "stream",
     "text": [
      "Accelerometer: Ax=-0.01, Ay=-0.01, Az=1.16\n",
      "Gyroscope: Gx=0.27, Gy=0.25, Gz=-0.04\n",
      "Accelerometer: Ax=-0.01, Ay=-0.0, Az=1.16\n",
      "Gyroscope: Gx=0.26, Gy=0.27, Gz=-0.02\n",
      "Accelerometer: Ax=-0.01, Ay=-0.01, Az=1.16\n",
      "Gyroscope: Gx=0.25, Gy=0.27, Gz=-0.03\n",
      "Accelerometer: Ax=0.16, Ay=0.37, Az=1.23\n",
      "Gyroscope: Gx=20.72, Gy=1.51, Gz=5.15\n",
      "Accelerometer: Ax=0.03, Ay=-0.35, Az=1.14\n",
      "Gyroscope: Gx=-30.72, Gy=-11.17, Gz=-4.8\n",
      "Accelerometer: Ax=0.09, Ay=-0.62, Az=0.94\n",
      "Gyroscope: Gx=3.86, Gy=1.34, Gz=2.97\n",
      "Accelerometer: Ax=-0.06, Ay=-0.0, Az=0.93\n",
      "Gyroscope: Gx=6.99, Gy=6.06, Gz=-2.77\n",
      "Accelerometer: Ax=-0.02, Ay=-0.06, Az=1.34\n",
      "Gyroscope: Gx=0.03, Gy=1.27, Gz=1.47\n",
      "Accelerometer: Ax=0.0, Ay=-0.0, Az=1.16\n",
      "Gyroscope: Gx=0.24, Gy=0.24, Gz=0.01\n",
      "Accelerometer: Ax=0.01, Ay=-0.0, Az=1.16\n",
      "Gyroscope: Gx=0.24, Gy=0.25, Gz=-0.01\n",
      "Accelerometer: Ax=0.0, Ay=-0.0, Az=1.16\n",
      "Gyroscope: Gx=0.27, Gy=0.25, Gz=0.0\n",
      "Accelerometer: Ax=0.01, Ay=-0.01, Az=1.16\n",
      "Gyroscope: Gx=0.27, Gy=0.26, Gz=-0.02\n",
      "Accelerometer: Ax=0.01, Ay=-0.0, Az=1.15\n",
      "Gyroscope: Gx=0.31, Gy=0.29, Gz=-0.02\n",
      "Accelerometer: Ax=0.01, Ay=-0.0, Az=1.16\n",
      "Gyroscope: Gx=0.25, Gy=0.24, Gz=0.02\n",
      "Accelerometer: Ax=0.01, Ay=-0.0, Az=1.16\n",
      "Gyroscope: Gx=0.24, Gy=0.27, Gz=-1.95\n",
      "Accelerometer: Ax=0.0, Ay=-0.0, Az=1.16\n",
      "Gyroscope: Gx=0.29, Gy=0.24, Gz=-0.04\n",
      "Accelerometer: Ax=-0.0, Ay=-0.0, Az=1.16\n",
      "Gyroscope: Gx=0.28, Gy=0.27, Gz=0.0\n",
      "Accelerometer: Ax=0.01, Ay=-0.0, Az=1.16\n",
      "Gyroscope: Gx=0.31, Gy=0.25, Gz=-0.04\n",
      "Process stopped by user\n"
     ]
    }
   ],
   "source": [
    "try:\n",
    "    while True:\n",
    "        # 가속도 데이터 읽기\n",
    "        accel_data = imu.get_accel()\n",
    "        print(f\"Accelerometer: Ax={accel_data[0]}, Ay={accel_data[1]}, Az={accel_data[2]}\")\n",
    "            \n",
    "        # 자이로 데이터 읽기\n",
    "        gyro_data = imu.get_gyro()\n",
    "        print(f\"Gyroscope: Gx={gyro_data[0]}, Gy={gyro_data[1]}, Gz={gyro_data[2]}\")\n",
    "            \n",
    "        # 주기적인 딜레이\n",
    "        sleep(1)\n",
    "\n",
    "except KeyboardInterrupt:\n",
    "    # 사용자 인터럽트 시 종료\n",
    "    print(\"Process stopped by user\")\n",
    "\n",
    "finally:\n",
    "    # SMBus 자원 해제\n",
    "    imu.bus.close()"
   ]
  },
  {
   "cell_type": "code",
   "execution_count": null,
   "id": "9cb62111-5af0-4cac-a064-21ccaf1cbe88",
   "metadata": {},
   "outputs": [],
   "source": []
  }
 ],
 "metadata": {
  "kernelspec": {
   "display_name": "Python 3 (ipykernel)",
   "language": "python",
   "name": "python3"
  },
  "language_info": {
   "codemirror_mode": {
    "name": "ipython",
    "version": 3
   },
   "file_extension": ".py",
   "mimetype": "text/x-python",
   "name": "python",
   "nbconvert_exporter": "python",
   "pygments_lexer": "ipython3",
   "version": "3.11.2"
  }
 },
 "nbformat": 4,
 "nbformat_minor": 5
}
