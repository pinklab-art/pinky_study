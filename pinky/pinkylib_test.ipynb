{
 "cells": [
  {
   "cell_type": "code",
   "execution_count": 2,
   "id": "4923e4e7-7818-4f10-82b0-c4357f3ae4c8",
   "metadata": {},
   "outputs": [],
   "source": [
    "from pinkylib import Pinky\n",
    "import time\n",
    "\n",
    "pinky = Pinky()\n",
    "\n",
    "pinky.enable_motor()\n",
    "pinky.start_motor(2000)\n",
    "\n",
    "pinky.move(-25, -25)\n",
    "time.sleep(1)\n",
    "pinky.stop()\n",
    "\n",
    "pinky.disable_motor()\n",
    "pinky.stop_motor()\n",
    "pinky.clean()"
   ]
  },
  {
   "cell_type": "code",
   "execution_count": null,
   "id": "088bb23a-56e3-4a65-9963-05201af0d954",
   "metadata": {},
   "outputs": [],
   "source": [
    "from pinkylib import Pinky\n",
    "import time\n",
    "\n",
    "pinky = Pinky()\n",
    "\n",
    "pinky.enable_motor()\n",
    "pinky.start_motor()\n",
    "\n",
    "pinky.move_front(25, 25)\n",
    "time.sleep(1)\n",
    "pinky.stop()\n",
    "\n",
    "pinky.disable_motor()\n",
    "pinky.stop_motor()\n",
    "pinky.clean()"
   ]
  },
  {
   "cell_type": "code",
   "execution_count": null,
   "id": "b28691ab-233b-49ef-a475-41ddd957162c",
   "metadata": {},
   "outputs": [],
   "source": [
    "from pinkylib import Pinky\n",
    "\n",
    "pinky = Pinky()\n",
    "pinky.buzzer_start()\n",
    "pinky.buzzer(3)\n",
    "pinky.buzzer_stop()\n",
    "pinky.clean()"
   ]
  },
  {
   "cell_type": "code",
   "execution_count": null,
   "id": "ec287d27-a81a-43ca-9493-c76453ac3e08",
   "metadata": {},
   "outputs": [],
   "source": [
    "from pinkylib import Pinky\n",
    "import time\n",
    "\n",
    "pinky = Pinky()\n",
    "\n",
    "while True:\n",
    "    dist = pinky.get_dist()\n",
    "    print(f\"{dist:.2f} cm\")\n",
    "    time.sleep(1)\n",
    "    \n",
    "pinky.clean()"
   ]
  },
  {
   "cell_type": "code",
   "execution_count": null,
   "id": "589bdcd9-4a4a-4180-a716-ef917eca8dfa",
   "metadata": {},
   "outputs": [],
   "source": [
    "from pinkylib import Pinky\n",
    "import time\n",
    "\n",
    "pinky = Pinky()\n",
    "\n",
    "while True:\n",
    "    ir_1, ir_2, ir_3 = pinky.read_ir()\n",
    "    print(f\"ir_1: {ir_1}, ir_2: {ir_2}, ir_3: {ir_3}\")\n",
    "    time.sleep(0.5)\n",
    "    \n",
    "pinky.clean()"
   ]
  },
  {
   "cell_type": "code",
   "execution_count": null,
   "id": "9d033dc9-7f8e-47b7-aa43-69cf7d03ce7d",
   "metadata": {},
   "outputs": [],
   "source": []
  }
 ],
 "metadata": {
  "kernelspec": {
   "display_name": "Python 3 (ipykernel)",
   "language": "python",
   "name": "python3"
  },
  "language_info": {
   "codemirror_mode": {
    "name": "ipython",
    "version": 3
   },
   "file_extension": ".py",
   "mimetype": "text/x-python",
   "name": "python",
   "nbconvert_exporter": "python",
   "pygments_lexer": "ipython3",
   "version": "3.11.2"
  }
 },
 "nbformat": 4,
 "nbformat_minor": 5
}
