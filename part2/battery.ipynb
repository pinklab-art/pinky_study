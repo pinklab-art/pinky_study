{
 "cells": [
  {
   "cell_type": "code",
   "execution_count": 1,
   "id": "6b764104-8610-4bdf-89b3-0390f79d1521",
   "metadata": {},
   "outputs": [],
   "source": [
    "import time  # 시간 모듈\n",
    "import board  # 보드 정의 모듈\n",
    "import busio  # I2C 통신 모듈\n",
    "import adafruit_ads1x15.ads1115 as ADS  # ADS1115 관련 모듈\n",
    "from adafruit_ads1x15.analog_in import AnalogIn  # 아날로그 입력 모듈"
   ]
  },
  {
   "cell_type": "code",
   "execution_count": 2,
   "id": "f9297e2e-229e-426a-bd9c-8dc6778e34cf",
   "metadata": {},
   "outputs": [],
   "source": [
    "# I2C 버스 생성\n",
    "i2c = busio.I2C(board.SCL, board.SDA)\n",
    "\n",
    "# I2C 버스를 사용하는 ADC 객체 생성\n",
    "ads = ADS.ADS1115(i2c)\n",
    "\n",
    "# 채널 0에서 단일 입력 생성\n",
    "chan = AnalogIn(ads, ADS.P0)"
   ]
  },
  {
   "cell_type": "code",
   "execution_count": 4,
   "id": "41a33acb-e1df-4147-becb-71093bd9d3c0",
   "metadata": {},
   "outputs": [],
   "source": [
    "def calculate_percentage(value):\n",
    "    MIN_VALUE = 2396  # 최소 값 정의\n",
    "    MAX_VALUE = 3215  # 최대 값 정의\n",
    "\n",
    "    if value < MIN_VALUE:  # 값이 최소값보다 작을 경우\n",
    "        return 0.0  # 백분율 0 반환\n",
    "    elif value > MAX_VALUE:  # 값이 최대값보다 클 경우\n",
    "        return 100.0  # 백분율 100 반환\n",
    "    else:  # 값이 범위 내에 있을 경우\n",
    "        percentage = (value - MIN_VALUE) / (MAX_VALUE - MIN_VALUE) * 100  # 백분율 계산\n",
    "        return percentage  # 계산된 백분율 반환"
   ]
  },
  {
   "cell_type": "code",
   "execution_count": 5,
   "id": "454ba012-1332-46bc-a81f-e541e6709b3c",
   "metadata": {},
   "outputs": [],
   "source": [
    "def battery():\n",
    "    i2c = busio.I2C(board.SCL, board.SDA)  # I2C 버스 생성\n",
    "    ads = ADS.ADS1115(i2c)  # ADC 객체 생성\n",
    "    chan = AnalogIn(ads, ADS.P0)  # 아날로그 입력 채널 설정\n",
    "\n",
    "    values = []  # 값을 저장할 리스트 생성\n",
    "\n",
    "    for _ in range(10):  # 10번 반복\n",
    "        values.append(chan.value)  # 현재 아날로그 값 추가\n",
    "        time.sleep(0.1)  # 0.1초 대기\n",
    "\n",
    "    avg_value = sum(values) / len(values)  # 평균 값 계산\n",
    "    percentage = calculate_percentage(avg_value)  # 평균값으로 백분율 계산\n",
    "\n",
    "    return percentage  # 백분율 반환"
   ]
  },
  {
   "cell_type": "code",
   "execution_count": 10,
   "id": "956bb8cd-a4b7-4254-a8a8-271c010407d4",
   "metadata": {},
   "outputs": [
    {
     "name": "stdout",
     "output_type": "stream",
     "text": [
      "battery :  21.11111111111112 %\n"
     ]
    }
   ],
   "source": [
    "print(\"battery : \", str(battery()), \"%\")"
   ]
  },
  {
   "cell_type": "code",
   "execution_count": null,
   "id": "67be1d14-13cf-41fa-bcd5-119590c41a31",
   "metadata": {},
   "outputs": [],
   "source": []
  },
  {
   "cell_type": "code",
   "execution_count": null,
   "id": "98642999-d148-4d6b-9c1c-e19ee44a44be",
   "metadata": {},
   "outputs": [],
   "source": []
  }
 ],
 "metadata": {
  "kernelspec": {
   "display_name": "Python 3 (ipykernel)",
   "language": "python",
   "name": "python3"
  },
  "language_info": {
   "codemirror_mode": {
    "name": "ipython",
    "version": 3
   },
   "file_extension": ".py",
   "mimetype": "text/x-python",
   "name": "python",
   "nbconvert_exporter": "python",
   "pygments_lexer": "ipython3",
   "version": "3.11.2"
  }
 },
 "nbformat": 4,
 "nbformat_minor": 5
}
