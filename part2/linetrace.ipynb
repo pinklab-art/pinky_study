{
 "cells": [
  {
   "cell_type": "code",
   "execution_count": 1,
   "id": "b08e69f4-e4ff-4523-a13a-1f47a1ce07db",
   "metadata": {},
   "outputs": [],
   "source": [
    "import time\n",
    "from pinkylib import Pinky"
   ]
  },
  {
   "cell_type": "code",
   "execution_count": 2,
   "id": "a7809750-eb09-4697-ad04-fb3170351201",
   "metadata": {},
   "outputs": [],
   "source": [
    "pinky = Pinky()\n",
    "\n",
    "pinky.enable_motor()\n",
    "pinky.start_motor()"
   ]
  },
  {
   "cell_type": "code",
   "execution_count": 3,
   "id": "5cdb8e8b-e5c5-4e81-b221-e4a76239796b",
   "metadata": {},
   "outputs": [
    {
     "name": "stdout",
     "output_type": "stream",
     "text": [
      "1 1 1\n",
      "1 1 1\n",
      "1 1 1\n",
      "1 1 1\n",
      "1 1 1\n",
      "1 1 1\n",
      "1 1 1\n",
      "1 1 1\n",
      "1 1 1\n",
      "1 1 1\n",
      "1 1 1\n",
      "0 0 0\n",
      "0 0 0\n",
      "0 0 0\n",
      "0 0 0\n",
      "0 0 0\n",
      "0 0 0\n",
      "0 0 0\n",
      "0 0 0\n",
      "0 1 0\n",
      "0 1 0\n",
      "1 1 1\n",
      "1 1 1\n",
      "1 1 1\n",
      "1 1 1\n",
      "1 1 1\n",
      "1 1 1\n",
      "1 1 1\n",
      "1 1 1\n",
      "1 1 1\n",
      "1 1 1\n",
      "1 1 1\n",
      "1 1 1\n",
      "1 1 1\n",
      "1 1 1\n",
      "1 1 1\n",
      "1 1 1\n",
      "1 1 1\n",
      "1 1 1\n",
      "1 1 1\n",
      "1 1 1\n",
      "1 1 1\n",
      "1 1 1\n",
      "1 1 1\n",
      "1 1 1\n",
      "1 1 1\n",
      "1 1 1\n",
      "1 1 1\n",
      "1 1 1\n",
      "1 1 1\n",
      "1 1 1\n",
      "1 1 1\n",
      "1 1 1\n",
      "1 1 1\n",
      "1 1 1\n"
     ]
    }
   ],
   "source": [
    "try:\n",
    "    while True:\n",
    "        left_ir, center_ir, right_ir = pinky.read_ir()\n",
    "\n",
    "        print(left_ir, center_ir, right_ir)\n",
    "        # 직진\n",
    "        if left_ir == 1 and center_ir == 0 and right_ir == 0:   \n",
    "            pinky.move(30, 30)\n",
    "        elif left_ir == 1 and center_ir == 0 and right_ir == 1:\n",
    "            pinky.move(30, 30)\n",
    "    \n",
    "        # 왼쪽으로 회전\n",
    "        elif left_ir == 0 and center_ir == 0 and right_ir == 0:\n",
    "            pinky.move(30, 40)\n",
    "        elif left_ir == 0 and center_ir == 0 and right_ir == 1:\n",
    "            pinky.move(30, 40)\n",
    "        elif left_ir == 0 and center_ir == 1 and right_ir == 1:\n",
    "            pinky.move(30, 40)\n",
    "        \n",
    "        # 오른쪽으로 회전    \n",
    "        elif left_ir == 1 and center_ir == 1 and right_ir == 0:   \n",
    "            pinky.move(40, 30)\n",
    "\n",
    "        # 선이없을 경우 정지\n",
    "        else:\n",
    "            pinky.move(0, 0)   \n",
    "        time.sleep(0.1)\n",
    "except KeyboardInterrupt:\n",
    "    pinky.move(0, 0)\n",
    "\n",
    "# 000 직진\n",
    "# 001 좌회전\n",
    "# 010 직진\n",
    "# 011 좌회전\n",
    "# 100 직진\n",
    "# 101 직진\n",
    "# 110 우회전\n",
    "# 111 정지 "
   ]
  },
  {
   "cell_type": "code",
   "execution_count": 25,
   "id": "afeaf1cb-79bd-45b2-a238-0db03c326c93",
   "metadata": {},
   "outputs": [],
   "source": [
    "pinky.move(0, 0)"
   ]
  },
  {
   "cell_type": "code",
   "execution_count": 24,
   "id": "fe9a4277-08db-460e-a7ff-baf25f2b8cfc",
   "metadata": {},
   "outputs": [],
   "source": [
    "pinky.move(0, -30)"
   ]
  },
  {
   "cell_type": "code",
   "execution_count": null,
   "id": "c1f63592-63a1-46a3-b615-f76aea93d1b3",
   "metadata": {},
   "outputs": [],
   "source": []
  }
 ],
 "metadata": {
  "kernelspec": {
   "display_name": "Python 3 (ipykernel)",
   "language": "python",
   "name": "python3"
  },
  "language_info": {
   "codemirror_mode": {
    "name": "ipython",
    "version": 3
   },
   "file_extension": ".py",
   "mimetype": "text/x-python",
   "name": "python",
   "nbconvert_exporter": "python",
   "pygments_lexer": "ipython3",
   "version": "3.11.2"
  }
 },
 "nbformat": 4,
 "nbformat_minor": 5
}
