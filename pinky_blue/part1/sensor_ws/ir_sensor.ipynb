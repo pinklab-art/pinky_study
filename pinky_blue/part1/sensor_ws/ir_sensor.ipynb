{
 "cells": [
  {
   "cell_type": "code",
   "execution_count": 1,
   "id": "c39be349-f299-4f78-aaee-dffbdc33121f",
   "metadata": {},
   "outputs": [],
   "source": [
    "import RPi.GPIO as GPIO\n",
    "import time"
   ]
  },
  {
   "cell_type": "code",
   "execution_count": 6,
   "id": "0ebfa78f-774a-44d6-8975-a4d22bb9af96",
   "metadata": {},
   "outputs": [],
   "source": [
    "IR_PIN_1 = 16\n",
    "IR_PIN_2 = 20\n",
    "IR_PIN_3 = 21\n",
    "\n",
    "GPIO.setmode(GPIO.BCM)\n",
    "GPIO.setup(IR_PIN_1, GPIO.IN)\n",
    "GPIO.setup(IR_PIN_2, GPIO.IN)\n",
    "GPIO.setup(IR_PIN_3, GPIO.IN)"
   ]
  },
  {
   "cell_type": "code",
   "execution_count": 8,
   "id": "c413a591-771a-4685-9454-8db42d77430f",
   "metadata": {},
   "outputs": [
    {
     "name": "stdout",
     "output_type": "stream",
     "text": [
      "Sensor 1: 1, Sensor 2: 1, Sensor 3: 0\n",
      "Sensor 1: 1, Sensor 2: 1, Sensor 3: 0\n",
      "Sensor 1: 1, Sensor 2: 1, Sensor 3: 0\n",
      "Sensor 1: 1, Sensor 2: 1, Sensor 3: 0\n",
      "Sensor 1: 1, Sensor 2: 1, Sensor 3: 0\n"
     ]
    },
    {
     "ename": "KeyboardInterrupt",
     "evalue": "",
     "output_type": "error",
     "traceback": [
      "\u001b[0;31m---------------------------------------------------------------------------\u001b[0m",
      "\u001b[0;31mKeyboardInterrupt\u001b[0m                         Traceback (most recent call last)",
      "Cell \u001b[0;32mIn[8], line 7\u001b[0m\n\u001b[1;32m      4\u001b[0m sensor_3 \u001b[38;5;241m=\u001b[39m GPIO\u001b[38;5;241m.\u001b[39minput(IR_PIN_3)\n\u001b[1;32m      6\u001b[0m \u001b[38;5;28mprint\u001b[39m(\u001b[38;5;124mf\u001b[39m\u001b[38;5;124m\"\u001b[39m\u001b[38;5;124mSensor 1: \u001b[39m\u001b[38;5;132;01m{\u001b[39;00msensor_1\u001b[38;5;132;01m}\u001b[39;00m\u001b[38;5;124m, Sensor 2: \u001b[39m\u001b[38;5;132;01m{\u001b[39;00msensor_2\u001b[38;5;132;01m}\u001b[39;00m\u001b[38;5;124m, Sensor 3: \u001b[39m\u001b[38;5;132;01m{\u001b[39;00msensor_3\u001b[38;5;132;01m}\u001b[39;00m\u001b[38;5;124m\"\u001b[39m)\n\u001b[0;32m----> 7\u001b[0m \u001b[43mtime\u001b[49m\u001b[38;5;241;43m.\u001b[39;49m\u001b[43msleep\u001b[49m\u001b[43m(\u001b[49m\u001b[38;5;241;43m1.5\u001b[39;49m\u001b[43m)\u001b[49m\n",
      "\u001b[0;31mKeyboardInterrupt\u001b[0m: "
     ]
    }
   ],
   "source": [
    "while True:\n",
    "    sensor_1 = GPIO.input(IR_PIN_1)\n",
    "    sensor_2 = GPIO.input(IR_PIN_2)\n",
    "    sensor_3 = GPIO.input(IR_PIN_3)\n",
    "\n",
    "    print(f\"Sensor 1: {sensor_1}, Sensor 2: {sensor_2}, Sensor 3: {sensor_3}\")\n",
    "    time.sleep(1.5)"
   ]
  },
  {
   "cell_type": "code",
   "execution_count": 4,
   "id": "9460e80c-8a8b-4fd1-9e64-bff67d2ec306",
   "metadata": {},
   "outputs": [],
   "source": [
    "GPIO.cleanup()"
   ]
  },
  {
   "cell_type": "code",
   "execution_count": null,
   "id": "07c35fff-311d-4488-b00e-2210817f3471",
   "metadata": {},
   "outputs": [],
   "source": []
  }
 ],
 "metadata": {
  "kernelspec": {
   "display_name": "Python 3 (ipykernel)",
   "language": "python",
   "name": "python3"
  },
  "language_info": {
   "codemirror_mode": {
    "name": "ipython",
    "version": 3
   },
   "file_extension": ".py",
   "mimetype": "text/x-python",
   "name": "python",
   "nbconvert_exporter": "python",
   "pygments_lexer": "ipython3",
   "version": "3.11.2"
  }
 },
 "nbformat": 4,
 "nbformat_minor": 5
}
