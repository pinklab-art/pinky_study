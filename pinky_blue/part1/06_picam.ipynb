{
 "cells": [
  {
   "cell_type": "code",
   "execution_count": null,
   "id": "7fd426db-d4c5-46f7-b609-1f83fa215efb",
   "metadata": {},
   "outputs": [],
   "source": [
    "from IPython.display import display, clear_output, Image\n",
    "import time\n",
    "import cv2\n",
    "from picamera2 import Picamera2\n",
    "\n",
    "# 이미지 크기를 설정하기 위한 너비와 높이 정의\n",
    "width = 640\n",
    "height = 480\n",
    "\n",
    "# Picamera2 객체 생성\n",
    "picam2 = Picamera2()\n",
    "\n",
    "# 카메라 미리보기 설정 구성\n",
    "# 'main' 스트림의 포맷은 RGB888, 크기는 위에서 정의한 (width, height)\n",
    "picam2.configure(picam2.create_preview_configuration(main={\"format\": \"RGB888\", \"size\": (width, height)}))\n",
    "\n",
    "# 카메라 시작\n",
    "picam2.start()"
   ]
  },
  {
   "cell_type": "code",
   "execution_count": null,
   "id": "88a54041-6691-47b3-b8e2-6e1a0aa7abe7",
   "metadata": {},
   "outputs": [],
   "source": [
    "def camera(play_time=3):\n",
    "    start_time = time.time()  # 시작 시간 기록\n",
    "    while time.time() - start_time < play_time:  # 시간 경과 확인\n",
    "        # 프레임 읽기\n",
    "        frame = picam2.capture_array()  # 프레임 캡처\n",
    "        frame = cv2.rotate(frame, cv2.ROTATE_180)  # 회전 처리\n",
    "\n",
    "        # JPG 포맷으로 인코딩\n",
    "        _, buffer = cv2.imencode('.jpg', frame)  # JPG 변환\n",
    "\n",
    "        # 현재 프레임을 표시\n",
    "        clear_output(wait=True)  # 화면 정리\n",
    "        display(Image(data=buffer.tobytes(), width=600))  # 이미지 출력\n",
    "\n",
    "        time.sleep(0.01)  # 짧은 지연"
   ]
  },
  {
   "cell_type": "code",
   "execution_count": null,
   "id": "dd14b87d-8c28-4bcb-ba6d-bee2f98e82bf",
   "metadata": {},
   "outputs": [],
   "source": [
    "play_time = 5\n",
    "camera(play_time) #5초 실행"
   ]
  },
  {
   "cell_type": "code",
   "execution_count": null,
   "id": "ebaa1481-41d4-4744-8b5d-a740b1375f3d",
   "metadata": {},
   "outputs": [],
   "source": []
  },
  {
   "cell_type": "code",
   "execution_count": null,
   "id": "6040033a-c05f-4646-ba32-0a7ee3831193",
   "metadata": {},
   "outputs": [],
   "source": []
  }
 ],
 "metadata": {
  "kernelspec": {
   "display_name": "Python 3 (ipykernel)",
   "language": "python",
   "name": "python3"
  },
  "language_info": {
   "codemirror_mode": {
    "name": "ipython",
    "version": 3
   },
   "file_extension": ".py",
   "mimetype": "text/x-python",
   "name": "python",
   "nbconvert_exporter": "python",
   "pygments_lexer": "ipython3",
   "version": "3.12.3"
  }
 },
 "nbformat": 4,
 "nbformat_minor": 5
}
