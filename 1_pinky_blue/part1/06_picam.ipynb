{
 "cells": [
  {
   "cell_type": "markdown",
   "id": "96126710",
   "metadata": {},
   "source": [
    "# 6. 카메라센서"
   ]
  },
  {
   "cell_type": "markdown",
   "id": "e931db7c",
   "metadata": {},
   "source": [
    "## pinky 폴더 내에서 새로운 파일 생성 후 picam.ipynb로 파일 이름 변경"
   ]
  },
  {
   "cell_type": "markdown",
   "id": "97de71f3",
   "metadata": {},
   "source": [
    "![](../../picture/pinky_blue/part1/06_picam.ipynb_2025-04-22-18-44-01.png)"
   ]
  },
  {
   "cell_type": "markdown",
   "id": "d34e6e7f",
   "metadata": {},
   "source": [
    "## 카메라 실행에 필요한 import 및 설정"
   ]
  },
  {
   "cell_type": "code",
   "execution_count": null,
   "id": "7fd426db-d4c5-46f7-b609-1f83fa215efb",
   "metadata": {},
   "outputs": [],
   "source": [
    "from IPython.display import display, clear_output, Image\n",
    "import time\n",
    "import cv2\n",
    "from picamera2 import Picamera2\n",
    "\n",
    "# 이미지 크기를 설정하기 위한 너비와 높이 정의\n",
    "width = 640\n",
    "height = 480\n",
    "\n",
    "# Picamera2 객체 생성\n",
    "picam2 = Picamera2()\n",
    "\n",
    "# 카메라 미리보기 설정 구성\n",
    "# 'main' 스트림의 포맷은 RGB888, 크기는 위에서 정의한 (width, height)\n",
    "picam2.configure(picam2.create_preview_configuration(main={\"format\": \"RGB888\", \"size\": (width, height)}))\n",
    "\n",
    "# 카메라 시작\n",
    "picam2.start()"
   ]
  },
  {
   "cell_type": "markdown",
   "id": "30d5906a",
   "metadata": {},
   "source": [
    "## 파이카메라 실행 함수 작성"
   ]
  },
  {
   "cell_type": "code",
   "execution_count": null,
   "id": "88a54041-6691-47b3-b8e2-6e1a0aa7abe7",
   "metadata": {},
   "outputs": [],
   "source": [
    "def camera(play_time=3):\n",
    "    start_time = time.time()  # 시작 시간 기록\n",
    "    while time.time() - start_time < play_time:  # 시간 경과 확인\n",
    "        # 프레임 읽기\n",
    "        frame = picam2.capture_array()  # 프레임 캡처\n",
    "        frame = cv2.rotate(frame, cv2.ROTATE_180)  # 회전 처리\n",
    "\n",
    "        # JPG 포맷으로 인코딩\n",
    "        _, buffer = cv2.imencode('.jpg', frame)  # JPG 변환\n",
    "\n",
    "        # 현재 프레임을 표시\n",
    "        clear_output(wait=True)  # 화면 정리\n",
    "        display(Image(data=buffer.tobytes(), width=600))  # 이미지 출력\n",
    "\n",
    "        time.sleep(0.01)  # 짧은 지연"
   ]
  },
  {
   "cell_type": "markdown",
   "id": "63c8566e",
   "metadata": {},
   "source": [
    "## 원하는 시간만큼 주피터 노트북에서 카메라를 실행해보자"
   ]
  },
  {
   "cell_type": "code",
   "execution_count": null,
   "id": "dd14b87d-8c28-4bcb-ba6d-bee2f98e82bf",
   "metadata": {},
   "outputs": [],
   "source": [
    "play_time = 5\n",
    "camera(play_time) #5초 실행"
   ]
  },
  {
   "cell_type": "markdown",
   "id": "7a31a56d",
   "metadata": {},
   "source": [
    "![](../../picture/pinky_blue/part1/06_picam.ipynb_2025-04-22-18-45-11.png)"
   ]
  }
 ],
 "metadata": {
  "kernelspec": {
   "display_name": "Python 3.9.6 64-bit",
   "language": "python",
   "name": "python3"
  },
  "language_info": {
   "codemirror_mode": {
    "name": "ipython",
    "version": 3
   },
   "file_extension": ".py",
   "mimetype": "text/x-python",
   "name": "python",
   "nbconvert_exporter": "python",
   "pygments_lexer": "ipython3",
   "version": "3.9.6"
  },
  "vscode": {
   "interpreter": {
    "hash": "31f2aee4e71d21fbe5cf8b01ff0e069b9275f58929596ceb00d14d90e3e16cd6"
   }
  }
 },
 "nbformat": 4,
 "nbformat_minor": 5
}
