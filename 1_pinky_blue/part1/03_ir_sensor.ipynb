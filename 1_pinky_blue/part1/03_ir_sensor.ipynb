{
 "cells": [
  {
   "cell_type": "markdown",
   "id": "4a0ca326",
   "metadata": {},
   "source": [
    "# 3. IR센서\n",
    "- 로봇 바닥면에 IR 센서 3개가 부착되어있다\n",
    "\n",
    "- ir센서는 검은색이 적외선을 흡수해서 0으로 출력, 흰색은 적외선을 반사해서 1로 출력되는 성질이 있다\n",
    "    * 이것을 모터와 잘 결합하면 라인트레이싱 코드가 된다\n",
    "\n",
    "    <br>\n",
    "- ir센서에 손을 가져다 대거나 검은색과 흰색이 있는 종이로 확인할 수 있다\n",
    "\n",
    "- ir센서가 완벽하진 않으므로, 상황에 따라 인식이 불안정할 수 있다\n",
    "    * 맵의 두께, 주변 빛의 밝기, 반사 표면 재질 등을 조절하자"
   ]
  },
  {
   "cell_type": "markdown",
   "id": "3a97e335",
   "metadata": {},
   "source": [
    "## 새로운 ir_sensor.ipynb 파일을 생성하고 import"
   ]
  },
  {
   "cell_type": "code",
   "execution_count": 1,
   "id": "c39be349-f299-4f78-aaee-dffbdc33121f",
   "metadata": {},
   "outputs": [],
   "source": [
    "import RPi.GPIO as GPIO\n",
    "import time"
   ]
  },
  {
   "cell_type": "markdown",
   "id": "433e5060",
   "metadata": {},
   "source": [
    "## GPIO 설정"
   ]
  },
  {
   "cell_type": "code",
   "execution_count": 6,
   "id": "0ebfa78f-774a-44d6-8975-a4d22bb9af96",
   "metadata": {},
   "outputs": [],
   "source": [
    "IR_PIN_1 = 16\n",
    "IR_PIN_2 = 20\n",
    "IR_PIN_3 = 21\n",
    "\n",
    "GPIO.setmode(GPIO.BCM)\n",
    "GPIO.setup(IR_PIN_1, GPIO.IN)\n",
    "GPIO.setup(IR_PIN_2, GPIO.IN)\n",
    "GPIO.setup(IR_PIN_3, GPIO.IN)"
   ]
  },
  {
   "cell_type": "markdown",
   "id": "c6154a47",
   "metadata": {},
   "source": [
    "## while 반복문 안에 IR_PIN을 읽어오는 함수를 추가하고 출력하자 \n",
    "### - sleep 함수로 출력 주기를 정해주자\n",
    "### - 실행 후, 센서를 손가락으로 가려보거나 검정/흰 물체에 두고 비교해보자\n"
   ]
  },
  {
   "cell_type": "code",
   "execution_count": null,
   "id": "2fbb2ebc",
   "metadata": {},
   "outputs": [],
   "source": [
    "while True:\n",
    "    sensor_1 = GPIO.input(IR_PIN_1)\n",
    "    sensor_2 = GPIO.input(IR_PIN_2)\n",
    "    sensor_3 = GPIO.input(IR_PIN_3)\n",
    "\n",
    "    print(f\"Sensor 1: {sensor_1}, Sensor 2: {sensor_2}, Sensor 3: {sensor_3}\")\n",
    "    time.sleep(1.5)"
   ]
  },
  {
   "cell_type": "markdown",
   "id": "e0bd0f44",
   "metadata": {},
   "source": [
    "![](../../picture/pinky_blue/part1/03_ir_sensor.ipynb_2025-04-22-18-26-21.png)"
   ]
  },
  {
   "cell_type": "markdown",
   "id": "53630411",
   "metadata": {},
   "source": [
    "## 위쪽 정지 버튼을 누르면 센서 측정이 종료된다"
   ]
  },
  {
   "cell_type": "markdown",
   "id": "8cd0e33d",
   "metadata": {},
   "source": [
    "![](../../picture/pinky_blue/part1/03_ir_sensor.ipynb_2025-04-22-18-27-24.png)"
   ]
  },
  {
   "cell_type": "markdown",
   "id": "ee51b779",
   "metadata": {},
   "source": [
    "## GPIO 리소스 해제"
   ]
  },
  {
   "cell_type": "code",
   "execution_count": 4,
   "id": "9460e80c-8a8b-4fd1-9e64-bff67d2ec306",
   "metadata": {},
   "outputs": [],
   "source": [
    "GPIO.cleanup()"
   ]
  }
 ],
 "metadata": {
  "kernelspec": {
   "display_name": "Python 3.9.6 64-bit",
   "language": "python",
   "name": "python3"
  },
  "language_info": {
   "codemirror_mode": {
    "name": "ipython",
    "version": 3
   },
   "file_extension": ".py",
   "mimetype": "text/x-python",
   "name": "python",
   "nbconvert_exporter": "python",
   "pygments_lexer": "ipython3",
   "version": "3.9.6"
  },
  "vscode": {
   "interpreter": {
    "hash": "31f2aee4e71d21fbe5cf8b01ff0e069b9275f58929596ceb00d14d90e3e16cd6"
   }
  }
 },
 "nbformat": 4,
 "nbformat_minor": 5
}
