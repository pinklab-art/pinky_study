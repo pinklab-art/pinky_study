{
 "cells": [
  {
   "cell_type": "markdown",
   "id": "3088b8c0",
   "metadata": {},
   "source": [
    "# 7. 배터리 잔량 확인하기\n",
    "## ads1115 - 현재 pinky의 배터리 출력관련 모듈\n",
    "\n",
    "![](../../picture/pinky_blue/part2/02_battery.ipynb_2025-04-22-20-27-33.png)"
   ]
  },
  {
   "cell_type": "markdown",
   "id": "da783e7e",
   "metadata": {},
   "source": [
    "## 우리는 여기서 I2C 통신을 사용할 예정\n",
    "- I2C 통신은 2개의 선을 이용\n",
    "- Master 1개와 여러 개의 Slave가 연결되어 통신이 가능\n",
    "- 클럭 신호를 사용하는 동기식 통신 방식이기 때문에 시간에 자유로움\n",
    "- Slave 선택을 위해 항상 주소 데이터가 붙기 때문에 긴 데이터를 전송 하기에는 부적합\n",
    "![](../../picture/pinky_blue/part2/02_battery.ipynb_2025-04-22-20-28-27.png)"
   ]
  },
  {
   "cell_type": "markdown",
   "id": "571b7b26",
   "metadata": {},
   "source": [
    "## pinky 폴더 내에 battery.ipynb 파일 생성\n",
    "\n",
    "![](../../picture/pinky_blue/part2/02_battery.ipynb_2025-04-22-20-30-04.png)"
   ]
  },
  {
   "cell_type": "markdown",
   "id": "0916f337",
   "metadata": {},
   "source": [
    "## 필요한 모듈 import"
   ]
  },
  {
   "cell_type": "code",
   "execution_count": 1,
   "id": "6b764104-8610-4bdf-89b3-0390f79d1521",
   "metadata": {},
   "outputs": [],
   "source": [
    "import time  # 시간 모듈\n",
    "import board  # 보드 정의 모듈\n",
    "import busio  # I2C 통신 모듈\n",
    "import adafruit_ads1x15.ads1115 as ADS  # ADS1115 관련 모듈\n",
    "from adafruit_ads1x15.analog_in import AnalogIn  # 아날로그 입력 모듈"
   ]
  },
  {
   "cell_type": "markdown",
   "id": "c3265594",
   "metadata": {},
   "source": [
    "## I2C 버스, ADC, 채널 생성\n",
    "- I2C 버스: 여러 기기가 하나의 버스로 연결되어 정보를 주고받는 것을 의미함. I2C 버스에서는 두 개의 선 (SDA와 SCL)으로 여러 기기가 연결되어 서로 데이터를 교환할 수 있음\n",
    "- ADS: 아날로그 신호를 디지털 신호로 변환하는 장치\n",
    "- 단일 입력: 한 채널을 통해 측정하는 방식으로 전압을 측정할 때 기준 전압(보통 그라운드)과 비교하여 측정"
   ]
  },
  {
   "cell_type": "code",
   "execution_count": 4,
   "id": "f9297e2e-229e-426a-bd9c-8dc6778e34cf",
   "metadata": {},
   "outputs": [],
   "source": [
    "# I2C 버스 생성\n",
    "i2c = busio.I2C(board.SCL, board.SDA)\n",
    "\n",
    "# I2C 버스를 사용하는 ADC 객체 생성\n",
    "ads = ADS.ADS1115(i2c)\n",
    "\n",
    "# 채널 0에서 단일 입력 생성\n",
    "chan = AnalogIn(ads, ADS.P0)"
   ]
  },
  {
   "cell_type": "markdown",
   "id": "3078e09f",
   "metadata": {},
   "source": [
    "## 전압 백분율 계산 함수 작성"
   ]
  },
  {
   "cell_type": "code",
   "execution_count": 5,
   "id": "41a33acb-e1df-4147-becb-71093bd9d3c0",
   "metadata": {},
   "outputs": [],
   "source": [
    "def calculate_percentage(value):\n",
    "    MIN_VALUE = 2396  # 최소 값 정의\n",
    "    MAX_VALUE = 3215  # 최대 값 정의\n",
    "\n",
    "    if value < MIN_VALUE:  # 값이 최소값보다 작을 경우\n",
    "        return 0.0  # 백분율 0 반환\n",
    "    elif value > MAX_VALUE:  # 값이 최대값보다 클 경우\n",
    "        return 100.0  # 백분율 100 반환\n",
    "    else:  # 값이 범위 내에 있을 경우\n",
    "        percentage = (value - MIN_VALUE) / (MAX_VALUE - MIN_VALUE) * 100  # 백분율 계산\n",
    "        return percentage  # 계산된 백분율 반환"
   ]
  },
  {
   "cell_type": "markdown",
   "id": "2ec7458e",
   "metadata": {},
   "source": [
    "## 배터리 전압 측정 후 배터리 상태 백분율로 반환하는 함수 작성"
   ]
  },
  {
   "cell_type": "code",
   "execution_count": 6,
   "id": "454ba012-1332-46bc-a81f-e541e6709b3c",
   "metadata": {},
   "outputs": [],
   "source": [
    "def battery():\n",
    "    i2c = busio.I2C(board.SCL, board.SDA)  # I2C 버스 생성\n",
    "    ads = ADS.ADS1115(i2c)  # ADC 객체 생성\n",
    "    chan = AnalogIn(ads, ADS.P0)  # 아날로그 입력 채널 설정\n",
    "\n",
    "    values = []  # 값을 저장할 리스트 생성\n",
    "\n",
    "    for _ in range(10):  # 10번 반복\n",
    "        values.append(chan.value)  # 현재 아날로그 값 추가\n",
    "        time.sleep(0.1)  # 0.1초 대기\n",
    "\n",
    "    avg_value = sum(values) / len(values)  # 평균 값 계산\n",
    "    percentage = calculate_percentage(avg_value)  # 평균값으로 백분율 계산\n",
    "\n",
    "    return percentage  # 백분율 반환"
   ]
  },
  {
   "cell_type": "markdown",
   "id": "1d06b0d2",
   "metadata": {},
   "source": [
    "## 배터리 잔량 출력\n",
    "- 잔량 출력 시에는 충전기를 빼고 측정하기"
   ]
  },
  {
   "cell_type": "code",
   "execution_count": 10,
   "id": "956bb8cd-a4b7-4254-a8a8-271c010407d4",
   "metadata": {},
   "outputs": [
    {
     "name": "stdout",
     "output_type": "stream",
     "text": [
      "battery :  97.72893772893774 %\n"
     ]
    }
   ],
   "source": [
    "print(\"battery : \", str(battery()), \"%\")"
   ]
  }
 ],
 "metadata": {
  "kernelspec": {
   "display_name": "Python 3.9.6 64-bit",
   "language": "python",
   "name": "python3"
  },
  "language_info": {
   "codemirror_mode": {
    "name": "ipython",
    "version": 3
   },
   "file_extension": ".py",
   "mimetype": "text/x-python",
   "name": "python",
   "nbconvert_exporter": "python",
   "pygments_lexer": "ipython3",
   "version": "3.9.6"
  },
  "vscode": {
   "interpreter": {
    "hash": "31f2aee4e71d21fbe5cf8b01ff0e069b9275f58929596ceb00d14d90e3e16cd6"
   }
  }
 },
 "nbformat": 4,
 "nbformat_minor": 5
}
