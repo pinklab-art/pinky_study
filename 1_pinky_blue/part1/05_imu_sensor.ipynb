{
 "cells": [
  {
   "cell_type": "markdown",
   "id": "6409f775",
   "metadata": {},
   "source": [
    "# 5. IMU센서"
   ]
  },
  {
   "cell_type": "markdown",
   "id": "028f80ba",
   "metadata": {},
   "source": [
    "## 새로운 imu.ipynb 파일을 생성하고 핑키 라이브러리와 대기 함수 import, IMU 객체 생성"
   ]
  },
  {
   "cell_type": "code",
   "execution_count": null,
   "id": "e40d7295-30a0-43d5-9182-a9e8ea61e3cd",
   "metadata": {
    "scrolled": true
   },
   "outputs": [],
   "source": [
    "from pinkylib import IMU\n",
    "from time import sleep\n",
    "\n",
    "imu = IMU()"
   ]
  },
  {
   "cell_type": "markdown",
   "id": "1459afcb",
   "metadata": {},
   "source": [
    "## 가속도, 자이로 데이터 출력하기"
   ]
  },
  {
   "cell_type": "code",
   "execution_count": null,
   "id": "c23158a2-9ccd-4e9c-b42b-7850d56c52bd",
   "metadata": {},
   "outputs": [],
   "source": [
    "from pinkylib import IMU\n",
    "import time\n",
    "\n",
    "imu = IMU()\n",
    "\n",
    "try:\n",
    "    while True:\n",
    "        imu_data = imu.read_imu()\n",
    "        print(f\"Magnetometer: X: {imu_data[\"x\"]:.2f} Y: {imu_data[\"y\"]:.2f} Z: {imu_data[\"z\"]:.2f}\")\n",
    "        print(f\"Accelerometer: Ax={imu_data[\"ax\"]:.2f}, Ay={imu_data[\"ay\"]:.2f}, Az={imu_data[\"az\"]:.2f}\")\n",
    "        print(f\"Gyroscope: Gx={imu_data[\"gx\"]:.2f}, Gy={imu_data[\"gy\"]:.2f}, Gz={imu_data[\"gz\"]:.2f}\")\n",
    "        print(\"----\")\n",
    "            \n",
    "        time.sleep(0.5)\n",
    "\n",
    "except KeyboardInterrupt:\n",
    "    print(\"Process stopped by user\")"
   ]
  },
  {
   "cell_type": "markdown",
   "id": "82bb233e",
   "metadata": {},
   "source": [
    "![](../../picture/pinky_blue/part1/05_imu_sensor.ipynb_2025-04-22-18-38-02.png)"
   ]
  },
  {
   "cell_type": "markdown",
   "id": "a13c89f6",
   "metadata": {},
   "source": [
    "## 정지 버튼 누르면 측정이 멈춘다."
   ]
  },
  {
   "cell_type": "markdown",
   "id": "89a8880e",
   "metadata": {},
   "source": [
    "![](../../picture/pinky_blue/part1/04_motor_drive.ipynb_2025-04-22-18-35-27.png)"
   ]
  }
 ],
 "metadata": {
  "kernelspec": {
   "display_name": "Python 3.9.6 64-bit",
   "language": "python",
   "name": "python3"
  },
  "language_info": {
   "codemirror_mode": {
    "name": "ipython",
    "version": 3
   },
   "file_extension": ".py",
   "mimetype": "text/x-python",
   "name": "python",
   "nbconvert_exporter": "python",
   "pygments_lexer": "ipython3",
   "version": "3.9.6"
  },
  "vscode": {
   "interpreter": {
    "hash": "31f2aee4e71d21fbe5cf8b01ff0e069b9275f58929596ceb00d14d90e3e16cd6"
   }
  }
 },
 "nbformat": 4,
 "nbformat_minor": 5
}
