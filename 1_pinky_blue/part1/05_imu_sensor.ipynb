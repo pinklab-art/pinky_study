{
 "cells": [
  {
   "cell_type": "code",
   "execution_count": null,
   "id": "e40d7295-30a0-43d5-9182-a9e8ea61e3cd",
   "metadata": {
    "scrolled": true
   },
   "outputs": [],
   "source": [
    "from pinkylib import IMU\n",
    "from time import sleep\n",
    "\n",
    "imu = IMU()"
   ]
  },
  {
   "cell_type": "code",
   "execution_count": null,
   "id": "c23158a2-9ccd-4e9c-b42b-7850d56c52bd",
   "metadata": {},
   "outputs": [],
   "source": [
    "from pinkylib import IMU\n",
    "import time\n",
    "\n",
    "imu = IMU()\n",
    "\n",
    "try:\n",
    "    while True:\n",
    "        imu_data = imu.read_imu()\n",
    "        print(f\"Magnetometer: X: {imu_data[\"x\"]:.2f} Y: {imu_data[\"y\"]:.2f} Z: {imu_data[\"z\"]:.2f}\")\n",
    "        print(f\"Accelerometer: Ax={imu_data[\"ax\"]:.2f}, Ay={imu_data[\"ay\"]:.2f}, Az={imu_data[\"az\"]:.2f}\")\n",
    "        print(f\"Gyroscope: Gx={imu_data[\"gx\"]:.2f}, Gy={imu_data[\"gy\"]:.2f}, Gz={imu_data[\"gz\"]:.2f}\")\n",
    "        print(\"----\")\n",
    "            \n",
    "        time.sleep(0.5)\n",
    "\n",
    "except KeyboardInterrupt:\n",
    "    print(\"Process stopped by user\")"
   ]
  },
  {
   "cell_type": "code",
   "execution_count": null,
   "id": "63d157ec-2f82-4745-924a-29bf0f36dde7",
   "metadata": {},
   "outputs": [],
   "source": []
  }
 ],
 "metadata": {
  "kernelspec": {
   "display_name": "Python 3 (ipykernel)",
   "language": "python",
   "name": "python3"
  },
  "language_info": {
   "codemirror_mode": {
    "name": "ipython",
    "version": 3
   },
   "file_extension": ".py",
   "mimetype": "text/x-python",
   "name": "python",
   "nbconvert_exporter": "python",
   "pygments_lexer": "ipython3",
   "version": "3.11.2"
  }
 },
 "nbformat": 4,
 "nbformat_minor": 5
}
