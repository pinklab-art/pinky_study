{
 "cells": [
  {
   "cell_type": "markdown",
   "id": "27a43ad6",
   "metadata": {},
   "source": [
    "# Yolo 모델 검증하기"
   ]
  },
  {
   "cell_type": "markdown",
   "id": "31002e6c",
   "metadata": {},
   "source": [
    "## 라벨링이 다 되었으면 google drive 업로드 \n",
    "![image](https://github.com/pinklab-art/pinky_study/blob/main/picture/pinky_blue/image45.png)\n",
    "\n",
    "<br>\n",
    "\n",
    "## train, val 각 폴더의 labels 폴더 안을 확인해보자\n",
    "- labels 폴더 안의 파일은 확장자가 txt이어야 한다\n",
    "  \n",
    "![image](https://github.com/pinklab-art/pinky_study/blob/main/picture/pinky_blue/image46.png)\n",
    "\n",
    "<br>\n",
    "\n",
    "## 확장자가 gdoc라면 아래 사진을 따라하고 다시 apple 폴더 업로드\n",
    "- 구글 드라이브 톱니바퀴-> 설정 클릭\n",
    "![image](https://github.com/pinklab-art/pinky_study/blob/main/picture/pinky_blue/image47.png)\n",
    "- 아래로 내리다가 나오는 업로드 옵션이 체크되어 있다면 체크 해제해주기\n",
    "![image](https://github.com/pinklab-art/pinky_study/blob/main/picture/pinky_blue/image48.png)\n",
    "\n",
    "<br>\n",
    "\n",
    "## 그리고 drive에서 Colab열기 \n",
    "![image](https://github.com/pinklab-art/pinky_study/blob/main/picture/pinky_blue/image49.png)\n",
    "\n",
    "![image](https://github.com/pinklab-art/pinky_study/blob/main/picture/pinky_blue/image50.png)\n",
    "\n",
    "<br>\n",
    "\n",
    "## GPU를 사용하기 위해 런타임 유형 변경 클릭\n",
    "![image](https://github.com/pinklab-art/pinky_study/blob/main/picture/pinky_blue/image51.png)\n",
    "\n",
    "<br>\n",
    "\n",
    "## T4 GPU로 설정 후 저장\n",
    "- GPU 연결될 때까지 대기\n",
    "\n",
    "![image](https://github.com/pinklab-art/pinky_study/blob/main/picture/pinky_blue/image52.png)\n",
    "\n",
    "<br>\n",
    "\n",
    "## google Drive 마운트 하기\n",
    "![image](https://github.com/pinklab-art/pinky_study/blob/main/picture/pinky_blue/image53.png)\n",
    "\n",
    "<br>\n",
    "\n",
    "## 잘 마운트 되었는지 확인\n",
    "![image](https://github.com/pinklab-art/pinky_study/blob/main/picture/pinky_blue/image54.png)\n",
    "\n",
    "<br>\n",
    "\n",
    "## 그리고 gpu 설정 되었는지 확인\n",
    "![image](https://github.com/pinklab-art/pinky_study/blob/main/picture/pinky_blue/image55.png)\n",
    "\n",
    "<br>\n",
    "\n",
    "## colab에 yolo 설치하기\n",
    "![image](https://github.com/pinklab-art/pinky_study/blob/main/picture/pinky_blue/image56.png)\n",
    "\n",
    "<br>\n",
    "\n",
    "## 오른쪽 클릭으로 data.yaml 파일 추가\n",
    "![image](https://github.com/pinklab-art/pinky_study/blob/main/picture/pinky_blue/image57.png)\n",
    "\n",
    "<br>\n",
    "\n",
    "## data.yaml 파일 더블클릭해서 오픈하고 다음 내용 추가 (저장 필수)\n",
    "![image](https://github.com/pinklab-art/pinky_study/blob/main/picture/pinky_blue/image58.png)\n",
    "\n",
    "<br>\n",
    "\n",
    "## data.yaml파일의 train과 val의 경로는 오른쪽클릭 경로 복사로 수정하기\n",
    "![image](https://github.com/pinklab-art/pinky_study/blob/main/picture/pinky_blue/image59.png)\n",
    "\n",
    "<br>\n",
    "\n",
    "## 다음 코드를 colab에서 실행해 학습 시작하기\n",
    "![image](https://github.com/pinklab-art/pinky_study/blob/main/picture/pinky_blue/image60.png)\n",
    "\n",
    "<br>\n",
    "\n",
    "## 학습된 결과 \n",
    "![image](https://github.com/pinklab-art/pinky_study/blob/main/picture/pinky_blue/image61.png)\n",
    "\n",
    "<br>\n",
    "\n",
    "## 학습한 모델의 위치는 여기에\n",
    "![image](https://github.com/pinklab-art/pinky_study/blob/main/picture/pinky_blue/image62.png)\n",
    "\n",
    "<br>\n",
    "\n",
    "## 학습된 결과 새로 사진을 찍어서 드라이브에 업로드하고 모델 검증 하기\n",
    "- 코드안의 model_path와 image_path의 경로는 경로 복사해서 수정하기\n",
    "\n",
    "![image](https://github.com/pinklab-art/pinky_study/blob/main/picture/pinky_blue/image63.png)\n",
    "\n",
    "<br>\n",
    "\n",
    "## 결과\n",
    "![](../../picture/pinky_blue/part3/04_yolo_test.ipynb_2025-04-22-21-39-25.png)\n",
    "\n",
    "<br>\n",
    "\n",
    "## 검증이 되었으면 오른쪽 클릭해서 모델 다운로드\n",
    "![image](https://github.com/pinklab-art/pinky_study/blob/main/picture/pinky_blue/image65.png)\n",
    "\n",
    "<br>\n",
    "\n",
    "## 드래그앤드랍으로 다운받은 파일 pinky 폴더 안에 넣기\n",
    "![image](https://github.com/pinklab-art/pinky_study/blob/main/picture/pinky_blue/image66.png)\n",
    "\n",
    "<br>\n",
    "\n",
    "##  yolo_test 새로운 파일 생성 후 검증해보기\n",
    "![](../../picture/pinky_blue/part3/04_yolo_test.ipynb_2025-04-22-21-30-07.png)"
   ]
  },
  {
   "cell_type": "code",
   "execution_count": null,
   "id": "fe3456ee-69be-499e-90b5-04559572eff0",
   "metadata": {},
   "outputs": [],
   "source": [
    "from pinkylib import Camera\n",
    "from pinkylib.yolo import Yolo\n",
    "\n",
    "import time"
   ]
  },
  {
   "cell_type": "code",
   "execution_count": null,
   "id": "492f0553-2911-48af-8110-ead933f71fd9",
   "metadata": {},
   "outputs": [],
   "source": [
    "yolo = Yolo()"
   ]
  },
  {
   "cell_type": "code",
   "execution_count": null,
   "id": "fc83361e-6b4d-4587-94f6-b158bdf959a7",
   "metadata": {},
   "outputs": [],
   "source": [
    "yolo.set_model('best.pt')"
   ]
  },
  {
   "cell_type": "code",
   "execution_count": null,
   "id": "d782252c-ae7f-428e-b3f0-06bb50493da3",
   "metadata": {},
   "outputs": [],
   "source": [
    "cam = Camera()\n",
    "cam.start()"
   ]
  },
  {
   "cell_type": "code",
   "execution_count": null,
   "id": "caa3dadd-2390-4b5e-9298-aada9c83d67e",
   "metadata": {},
   "outputs": [],
   "source": [
    "while True:\n",
    "    frame = cam.get_frame()\n",
    "    cls, result_frame = yolo.detect_yolo(frame, conf=0.7)\n",
    "\n",
    "    cam.display_jupyter(result_frame)\n",
    "    time.sleep(0.1)"
   ]
  },
  {
   "cell_type": "code",
   "execution_count": null,
   "id": "514f786f-517a-4778-bc0f-9d76988e9468",
   "metadata": {},
   "outputs": [],
   "source": [
    "cam.close()"
   ]
  }
 ],
 "metadata": {
  "kernelspec": {
   "display_name": "Python 3.9.6 64-bit",
   "language": "python",
   "name": "python3"
  },
  "language_info": {
   "codemirror_mode": {
    "name": "ipython",
    "version": 3
   },
   "file_extension": ".py",
   "mimetype": "text/x-python",
   "name": "python",
   "nbconvert_exporter": "python",
   "pygments_lexer": "ipython3",
   "version": "3.9.6"
  },
  "vscode": {
   "interpreter": {
    "hash": "31f2aee4e71d21fbe5cf8b01ff0e069b9275f58929596ceb00d14d90e3e16cd6"
   }
  }
 },
 "nbformat": 4,
 "nbformat_minor": 5
}
