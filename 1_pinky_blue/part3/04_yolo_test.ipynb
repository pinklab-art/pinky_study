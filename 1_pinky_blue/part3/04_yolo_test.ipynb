{
 "cells": [
  {
   "cell_type": "markdown",
   "id": "27a43ad6",
   "metadata": {},
   "source": [
    "# Yolo 모델 검증하기\n",
    "##  yolo_test 새로운 파일 생성 후 검증해보기\n",
    "![](../../picture/pinky_blue/part3/04_yolo_test.ipynb_2025-04-22-21-30-07.png)"
   ]
  },
  {
   "cell_type": "code",
   "execution_count": null,
   "id": "fe3456ee-69be-499e-90b5-04559572eff0",
   "metadata": {},
   "outputs": [],
   "source": [
    "from pinkylib import Camera\n",
    "from pinkylib.yolo import Yolo\n",
    "\n",
    "import time"
   ]
  },
  {
   "cell_type": "code",
   "execution_count": null,
   "id": "492f0553-2911-48af-8110-ead933f71fd9",
   "metadata": {},
   "outputs": [],
   "source": [
    "yolo = Yolo()"
   ]
  },
  {
   "cell_type": "code",
   "execution_count": null,
   "id": "fc83361e-6b4d-4587-94f6-b158bdf959a7",
   "metadata": {},
   "outputs": [],
   "source": [
    "yolo.set_model('best.pt')"
   ]
  },
  {
   "cell_type": "code",
   "execution_count": null,
   "id": "d782252c-ae7f-428e-b3f0-06bb50493da3",
   "metadata": {},
   "outputs": [],
   "source": [
    "cam = Camera()\n",
    "cam.start()"
   ]
  },
  {
   "cell_type": "code",
   "execution_count": null,
   "id": "caa3dadd-2390-4b5e-9298-aada9c83d67e",
   "metadata": {},
   "outputs": [],
   "source": [
    "while True:\n",
    "    frame = cam.get_frame()\n",
    "    cls, result_frame = yolo.detect_yolo(frame, conf=0.7)\n",
    "\n",
    "    cam.display_jupyter(result_frame)\n",
    "    time.sleep(0.1)"
   ]
  },
  {
   "cell_type": "code",
   "execution_count": null,
   "id": "514f786f-517a-4778-bc0f-9d76988e9468",
   "metadata": {},
   "outputs": [],
   "source": [
    "cam.close()"
   ]
  }
 ],
 "metadata": {
  "kernelspec": {
   "display_name": "Python 3.9.6 64-bit",
   "language": "python",
   "name": "python3"
  },
  "language_info": {
   "codemirror_mode": {
    "name": "ipython",
    "version": 3
   },
   "file_extension": ".py",
   "mimetype": "text/x-python",
   "name": "python",
   "nbconvert_exporter": "python",
   "pygments_lexer": "ipython3",
   "version": "3.9.6"
  },
  "vscode": {
   "interpreter": {
    "hash": "31f2aee4e71d21fbe5cf8b01ff0e069b9275f58929596ceb00d14d90e3e16cd6"
   }
  }
 },
 "nbformat": 4,
 "nbformat_minor": 5
}
