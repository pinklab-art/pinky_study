{
 "cells": [
  {
   "cell_type": "markdown",
   "id": "27a43ad6",
   "metadata": {},
   "source": [
    "# Yolo 모델 검증하기"
   ]
  },
  {
   "cell_type": "markdown",
   "id": "8cd56304",
   "metadata": {},
   "source": [
    "## 라벨링이 다 되었으면 google drive 업로드 \n",
    "![](../../picture/pinky_blue/part3/04_yolo_test.ipynb_2025-04-22-21-41-10.png)"
   ]
  },
  {
   "cell_type": "markdown",
   "id": "2f8c1a8c",
   "metadata": {},
   "source": [
    "## train, val 각 폴더의 labels 폴더 안을 확인해보자\n",
    "### - labels 폴더 안의 파일은 확장자가 txt이어야 한다\n",
    "\n",
    "![](../../picture/pinky_blue/part3/04_yolo_test.ipynb_2025-04-22-21-41-39.png)"
   ]
  },
  {
   "cell_type": "markdown",
   "id": "eede3209",
   "metadata": {},
   "source": [
    "## 확장자가 gdoc라면 아래 사진을 따라하고 다시 apple 폴더 업로드\n",
    "### - 구글 드라이브 톱니바퀴-> 설정 클릭 -> 업로드 옵션의 체크 해제\n",
    "![](../../picture/pinky_blue/part3/04_yolo_test.ipynb_2025-04-22-21-42-56.png)"
   ]
  },
  {
   "cell_type": "markdown",
   "id": "8222c07f",
   "metadata": {},
   "source": [
    "## 그리고 drive에서 Colab열기 \n",
    "![](../../picture/pinky_blue/part3/04_yolo_test.ipynb_2025-04-22-21-44-52.png)\n",
    "![](../../picture/pinky_blue/part3/04_yolo_test.ipynb_2025-04-22-21-45-20.png)"
   ]
  },
  {
   "cell_type": "markdown",
   "id": "96aa9705",
   "metadata": {},
   "source": [
    "## GPU를 사용하기 위해 런타임 유형 변경 클릭\n",
    "![](../../picture/pinky_blue/part3/04_yolo_test.ipynb_2025-04-22-21-45-47.png)"
   ]
  },
  {
   "cell_type": "markdown",
   "id": "0566e211",
   "metadata": {},
   "source": [
    "## T4 GPU로 설정 후 저장\n",
    "### - GPU 연결될 때까지 대기\n",
    "\n",
    "![](../../picture/pinky_blue/part3/04_yolo_test.ipynb_2025-04-22-21-48-19.png)"
   ]
  },
  {
   "cell_type": "markdown",
   "id": "d2fe47d3",
   "metadata": {},
   "source": [
    "## google Drive 마운트 하기\n",
    "![](../../picture/pinky_blue/part3/04_yolo_test.ipynb_2025-04-22-21-52-46.png)"
   ]
  },
  {
   "cell_type": "markdown",
   "id": "ef58d748",
   "metadata": {},
   "source": [
    "## 잘 마운트 되었는지 확인\n",
    "![](../../picture/pinky_blue/part3/04_yolo_test.ipynb_2025-04-22-21-53-06.png)"
   ]
  },
  {
   "cell_type": "markdown",
   "id": "a88030c5",
   "metadata": {},
   "source": [
    "## 그리고 gpu 설정 되었는지 확인\n",
    "![](../../picture/pinky_blue/part3/04_yolo_test.ipynb_2025-04-22-21-53-34.png)"
   ]
  },
  {
   "cell_type": "markdown",
   "id": "d023b73b",
   "metadata": {},
   "source": [
    "## colab에 yolo 설치하기\n",
    "![](../../picture/pinky_blue/part3/04_yolo_test.ipynb_2025-04-22-21-54-07.png)"
   ]
  },
  {
   "cell_type": "markdown",
   "id": "e139b14d",
   "metadata": {},
   "source": [
    "## 오른쪽 클릭으로 data.yaml 파일 추가\n",
    "![](../../picture/pinky_blue/part3/04_yolo_test.ipynb_2025-04-22-21-55-00.png)"
   ]
  },
  {
   "cell_type": "markdown",
   "id": "f469f745",
   "metadata": {},
   "source": [
    "## data.yaml 파일 더블클릭해서 오픈하고 다음 내용 추가 (저장 필수)\n",
    "### - train과 val의 경로는 반드시 수정!\n",
    "![](../../picture/pinky_blue/part3/04_yolo_test.ipynb_2025-04-22-21-55-16.png)"
   ]
  },
  {
   "cell_type": "markdown",
   "id": "7022ffde",
   "metadata": {},
   "source": [
    "## data.yaml파일의 train과 val의 경로는 오른쪽클릭 경로 복사로 수정하기\n",
    "![](../../picture/pinky_blue/part3/04_yolo_test.ipynb_2025-04-22-21-55-26.png)"
   ]
  },
  {
   "cell_type": "markdown",
   "id": "ad3f2477",
   "metadata": {},
   "source": [
    "## 다음 코드를 colab에서 실행해 학습 시작하기\n",
    "### - data_path은 data.yaml 파일의 위치\n",
    "\n",
    "![](../../picture/pinky_blue/part3/04_yolo_test.ipynb_2025-04-22-21-55-47.png)"
   ]
  },
  {
   "cell_type": "markdown",
   "id": "09cbf046",
   "metadata": {},
   "source": [
    "## 학습된 결과\n",
    "![](../../picture/pinky_blue/part3/04_yolo_test.ipynb_2025-04-22-21-59-59.png)"
   ]
  },
  {
   "cell_type": "markdown",
   "id": "931cbfab",
   "metadata": {},
   "source": [
    "## 학습한 모델의 위치는 여기에\n",
    "![](../../picture/pinky_blue/part3/04_yolo_test.ipynb_2025-04-22-22-00-19.png)"
   ]
  },
  {
   "cell_type": "markdown",
   "id": "751f2956",
   "metadata": {},
   "source": [
    "## 학습된 결과 새로 사진을 찍어서 드라이브에 업로드하고 모델 검증 하기\n",
    "- 코드안의 model_path와 image_path의 경로는 경로 복사해서 수정하기\n",
    "![](../../picture/pinky_blue/part3/04_yolo_test.ipynb_2025-04-22-22-01-15.png)"
   ]
  },
  {
   "cell_type": "markdown",
   "id": "9aa7a21e",
   "metadata": {},
   "source": [
    "## 결과\n",
    "![](../../picture/pinky_blue/part3/04_yolo_test.ipynb_2025-04-22-21-39-25.png)"
   ]
  },
  {
   "cell_type": "markdown",
   "id": "f9aa39ee",
   "metadata": {},
   "source": [
    "## 검증이 되었으면 오른쪽 클릭해서 모델 다운로드\n",
    "![](../../picture/pinky_blue/part3/04_yolo_test.ipynb_2025-04-22-22-01-49.png)"
   ]
  },
  {
   "cell_type": "markdown",
   "id": "31002e6c",
   "metadata": {},
   "source": [
    "## 드래그앤드랍으로 다운받은 파일 pinky 폴더 안에 넣기\n",
    "![](../../picture/pinky_blue/part3/04_yolo_test.ipynb_2025-04-22-22-02-09.png)"
   ]
  },
  {
   "cell_type": "markdown",
   "id": "128b2ec4",
   "metadata": {},
   "source": [
    "##  yolo_test 새로운 파일 생성\n",
    "![](../../picture/pinky_blue/part3/04_yolo_test.ipynb_2025-04-22-21-30-07.png)"
   ]
  },
  {
   "cell_type": "markdown",
   "id": "7bf2a355",
   "metadata": {},
   "source": [
    "## 필요한 모듈 import"
   ]
  },
  {
   "cell_type": "code",
   "execution_count": null,
   "id": "fe3456ee-69be-499e-90b5-04559572eff0",
   "metadata": {},
   "outputs": [],
   "source": [
    "from pinkylib import Camera\n",
    "from pinkylib.yolo import Yolo\n",
    "\n",
    "import time"
   ]
  },
  {
   "cell_type": "markdown",
   "id": "daa2bb6b",
   "metadata": {},
   "source": [
    "## yolo 객체 생성 및 모델 불러오기"
   ]
  },
  {
   "cell_type": "code",
   "execution_count": null,
   "id": "492f0553-2911-48af-8110-ead933f71fd9",
   "metadata": {},
   "outputs": [],
   "source": [
    "yolo = Yolo()"
   ]
  },
  {
   "cell_type": "code",
   "execution_count": null,
   "id": "fc83361e-6b4d-4587-94f6-b158bdf959a7",
   "metadata": {},
   "outputs": [],
   "source": [
    "yolo.set_model('best.pt')"
   ]
  },
  {
   "cell_type": "markdown",
   "id": "9df5976a",
   "metadata": {},
   "source": [
    "##    카메라 실행"
   ]
  },
  {
   "cell_type": "code",
   "execution_count": null,
   "id": "d782252c-ae7f-428e-b3f0-06bb50493da3",
   "metadata": {},
   "outputs": [],
   "source": [
    "cam = Camera()\n",
    "cam.start()"
   ]
  },
  {
   "cell_type": "markdown",
   "id": "32d24e6e",
   "metadata": {},
   "source": [
    "## 영상으로 yolo 모델 학습 결과 확인\n",
    "### - 사과가 아닌 다른 것이 인식된다면 conf 정확도값을 올려주기(최대값 1.0)"
   ]
  },
  {
   "cell_type": "code",
   "execution_count": null,
   "id": "caa3dadd-2390-4b5e-9298-aada9c83d67e",
   "metadata": {},
   "outputs": [],
   "source": [
    "while True:\n",
    "    frame = cam.get_frame()\n",
    "    cls, result_frame = yolo.detect_yolo(frame, conf=0.7)\n",
    "\n",
    "    cam.display_jupyter(result_frame)\n",
    "    time.sleep(0.1)"
   ]
  },
  {
   "cell_type": "markdown",
   "id": "bc4a46d1",
   "metadata": {},
   "source": [
    "## 리소스 해제"
   ]
  },
  {
   "cell_type": "code",
   "execution_count": null,
   "id": "514f786f-517a-4778-bc0f-9d76988e9468",
   "metadata": {},
   "outputs": [],
   "source": [
    "cam.close()"
   ]
  }
 ],
 "metadata": {
  "kernelspec": {
   "display_name": "Python 3.9.6 64-bit",
   "language": "python",
   "name": "python3"
  },
  "language_info": {
   "codemirror_mode": {
    "name": "ipython",
    "version": 3
   },
   "file_extension": ".py",
   "mimetype": "text/x-python",
   "name": "python",
   "nbconvert_exporter": "python",
   "pygments_lexer": "ipython3",
   "version": "3.9.6"
  },
  "vscode": {
   "interpreter": {
    "hash": "31f2aee4e71d21fbe5cf8b01ff0e069b9275f58929596ceb00d14d90e3e16cd6"
   }
  }
 },
 "nbformat": 4,
 "nbformat_minor": 5
}
