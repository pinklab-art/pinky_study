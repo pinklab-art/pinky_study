{
 "cells": [
  {
   "cell_type": "code",
   "execution_count": null,
   "id": "6d75cd6b-782b-4475-a8ae-4ab2832723b4",
   "metadata": {},
   "outputs": [],
   "source": [
    "from pinkylib import Camera # 카메라 모듈 불러오기\n",
    "import cv2 # OpenCV 모듈 불러오기\n",
    "\n",
    "cam = Camera() # Camera 객체 생성\n",
    "cam.start() # 카메라 시작\n",
    "\n",
    "file_number = 1 # 파일 번호 초기화"
   ]
  },
  {
   "cell_type": "code",
   "execution_count": null,
   "id": "2a9a1fe0-7b92-4e57-a805-16052145d6f5",
   "metadata": {},
   "outputs": [],
   "source": [
    "while True:\n",
    "    cmd = input(\"c is capture\")\n",
    "    if cmd == \"c\":\n",
    "        frame = cam.get_frame()\n",
    "        cv2.imwrite(f\"./calib_img/{file_number}.jpg\", frame) # 사진 저장\n",
    "        print(f\"Saved {file_number}.jpg\")\n",
    "        cam.display_jupyter(frame) # jupyter notebook에서 사진 확인\n",
    "        file_number += 1\n",
    "    \n",
    "    if cmd == \"q\":  # q 키를 누르면 종료\n",
    "        break\n",
    "\n",
    "cam.close() # 카메라 닫기"
   ]
  },
  {
   "cell_type": "code",
   "execution_count": null,
   "id": "ed45852a-54d7-4b5c-ad1a-6c6091eeb8e4",
   "metadata": {
    "scrolled": true
   },
   "outputs": [],
   "source": [
    "cam.calibration_camera(\"./calib_img\")"
   ]
  },
  {
   "cell_type": "code",
   "execution_count": null,
   "id": "a9cacb34-2085-43fd-b2c7-a851c370f894",
   "metadata": {},
   "outputs": [],
   "source": []
  }
 ],
 "metadata": {
  "kernelspec": {
   "display_name": "Python 3.9.6 64-bit",
   "language": "python",
   "name": "python3"
  },
  "language_info": {
   "codemirror_mode": {
    "name": "ipython",
    "version": 3
   },
   "file_extension": ".py",
   "mimetype": "text/x-python",
   "name": "python",
   "nbconvert_exporter": "python",
   "pygments_lexer": "ipython3",
   "version": "3.9.6"
  },
  "vscode": {
   "interpreter": {
    "hash": "31f2aee4e71d21fbe5cf8b01ff0e069b9275f58929596ceb00d14d90e3e16cd6"
   }
  }
 },
 "nbformat": 4,
 "nbformat_minor": 5
}
