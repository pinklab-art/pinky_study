{
 "cells": [
  {
   "cell_type": "code",
   "execution_count": 1,
   "id": "10899559-2875-4f62-a38c-e487012e6069",
   "metadata": {},
   "outputs": [],
   "source": [
    "import RPi.GPIO as GPIO\n",
    "import time\n",
    "\n",
    "# 사용자 정의 핀 번호 설정\n",
    "TRIG_PIN = 23\n",
    "ECHO_PIN = 24"
   ]
  },
  {
   "cell_type": "code",
   "execution_count": 2,
   "id": "c457440e-6e12-46fe-bc20-3185df184e14",
   "metadata": {},
   "outputs": [],
   "source": [
    "# GPIO 핀을 초기화하는 함수\n",
    "def setup_gpio(trig_pin, echo_pin):\n",
    "    # BCM 모드로 설정(GPIO 핀번호 기반 모드)\n",
    "    GPIO.setmode(GPIO.BCM)\n",
    "    # 트리거 핀을 출력 모드로 설정\n",
    "    GPIO.setup(trig_pin, GPIO.OUT)\n",
    "    # 에코 핀을 입력 모드로 설정\n",
    "    GPIO.setup(echo_pin, GPIO.IN)"
   ]
  },
  {
   "cell_type": "code",
   "execution_count": 3,
   "id": "832917b7-e2c9-4271-992a-a3f282487b78",
   "metadata": {},
   "outputs": [],
   "source": [
    "# 초음파 트리거 펄스를 보내는 함수\n",
    "def send_trigger_pulse(trig_pin):\n",
    "    # 트리거 초기화\n",
    "    GPIO.output(trig_pin, False)\n",
    "    time.sleep(0.1)  # 안정화 지연\n",
    "    # 트리거를 활성화하여 매우 짧은 펄스를 보냄\n",
    "    GPIO.output(trig_pin, True)\n",
    "    time.sleep(0.00001)\n",
    "    # 트리거를 비활성화\n",
    "    GPIO.output(trig_pin, False)"
   ]
  },
  {
   "cell_type": "code",
   "execution_count": 4,
   "id": "521fb226-c91c-4a39-8565-39507ac98f12",
   "metadata": {},
   "outputs": [],
   "source": [
    "# 에코 신호를 대기하는 함수\n",
    "def wait_for_echo(echo_pin, value, timeout):\n",
    "    count = timeout\n",
    "    # 지정된 값이 입력될 때까지 반복, 타임아웃 방지\n",
    "    while GPIO.input(echo_pin) != value and count > 0:\n",
    "        count -= 1"
   ]
  },
  {
   "cell_type": "code",
   "execution_count": 5,
   "id": "296b2782-55cd-4d34-b9dd-dff6f901b171",
   "metadata": {},
   "outputs": [],
   "source": [
    "# 트리거 및 에코 핀의 펄스 지속 시간을 측정하는 함수\n",
    "def get_pulse_time(trig_pin, echo_pin):\n",
    "    send_trigger_pulse(trig_pin)\n",
    "    wait_for_echo(echo_pin, 1, 10000)  # 에코 핀이 HIGH가 되는 것을 대기\n",
    "    start = time.time()  # 시작 시간 기록\n",
    "    wait_for_echo(echo_pin, 0, 10000)  # 에코 핀이 LOW가 되는 것을 대기\n",
    "    finish = time.time()  # 종료 시간 기록\n",
    "    pulse_len = finish - start  # 펄스 길이 계산\n",
    "    return pulse_len"
   ]
  },
  {
   "cell_type": "code",
   "execution_count": 6,
   "id": "0c8b18b2-f977-4fe3-80c3-6bd581040566",
   "metadata": {},
   "outputs": [],
   "source": [
    "# 초음파 센서를 사용하여 거리를 계산하는 함수\n",
    "def calculate_distance(trig_pin, echo_pin):\n",
    "    pulse_len = get_pulse_time(trig_pin, echo_pin)\n",
    "    distance_cm = pulse_len * 34300 / 2.0  # 공기 중 음속을 사용하여 센티미터로 변환\n",
    "    return distance_cm / 100.0  # 미터 단위로 변환"
   ]
  },
  {
   "cell_type": "code",
   "execution_count": 7,
   "id": "50e98a37-aee4-4047-a8b0-2b2d1159403c",
   "metadata": {},
   "outputs": [
    {
     "name": "stdout",
     "output_type": "stream",
     "text": [
      "Distance: 0.17 meters\n",
      "Distance: 0.20 meters\n",
      "Distance: 0.08 meters\n",
      "Distance: 0.08 meters\n",
      "Distance: 0.09 meters\n",
      "Distance: 0.17 meters\n",
      "Distance: 0.17 meters\n",
      "\n",
      "Measurement stopped by user\n"
     ]
    }
   ],
   "source": [
    "# 주어진 핀을 사용하여 거리를 계속 측정하는 함수\n",
    "def measure_distance(trig_pin, echo_pin):\n",
    "    try:\n",
    "        setup_gpio(trig_pin, echo_pin)\n",
    "\n",
    "        while True:\n",
    "            distance = calculate_distance(trig_pin, echo_pin)\n",
    "            print(f\"Distance: {distance:.2f} meters\")\n",
    "            time.sleep(1)  # 1초 대기 후 다시 측정\n",
    "\n",
    "    except KeyboardInterrupt:\n",
    "        # 사용자가 중단했을 때 메시지 출력\n",
    "        print(\"\\nMeasurement stopped by user\")\n",
    "\n",
    "    finally:\n",
    "        # GPIO 핀 정리\n",
    "        GPIO.cleanup()\n",
    "\n",
    "# 거리 측정 함수 호출\n",
    "measure_distance(TRIG_PIN, ECHO_PIN)"
   ]
  },
  {
   "cell_type": "code",
   "execution_count": null,
   "id": "1658baf9-2d56-477b-9d88-665221eea3fc",
   "metadata": {},
   "outputs": [],
   "source": []
  }
 ],
 "metadata": {
  "kernelspec": {
   "display_name": "Python 3 (ipykernel)",
   "language": "python",
   "name": "python3"
  },
  "language_info": {
   "codemirror_mode": {
    "name": "ipython",
    "version": 3
   },
   "file_extension": ".py",
   "mimetype": "text/x-python",
   "name": "python",
   "nbconvert_exporter": "python",
   "pygments_lexer": "ipython3",
   "version": "3.11.2"
  }
 },
 "nbformat": 4,
 "nbformat_minor": 5
}
