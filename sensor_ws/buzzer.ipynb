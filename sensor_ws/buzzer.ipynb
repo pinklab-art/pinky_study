{
 "cells": [
  {
   "cell_type": "code",
   "execution_count": 1,
   "id": "86545247-80c1-4f46-a94b-02ebc63d2bdf",
   "metadata": {},
   "outputs": [],
   "source": [
    "import RPi.GPIO as GPIO\n",
    "import time"
   ]
  },
  {
   "cell_type": "code",
   "execution_count": 2,
   "id": "98718317-2191-4b03-9454-7669831357d8",
   "metadata": {},
   "outputs": [],
   "source": [
    "# 사용할 핀 번호 설정\n",
    "buzzer = 22\n",
    "\n",
    "# GPIO 모드를 BCM으로 설정\n",
    "GPIO.setmode(GPIO.BCM)\n",
    "\n",
    "# 부저 핀을 출력 모드로 설정\n",
    "GPIO.setup(buzzer, GPIO.OUT)"
   ]
  },
  {
   "cell_type": "code",
   "execution_count": 4,
   "id": "d9cfb01d-7e8b-4f5f-a75c-c395932c0f70",
   "metadata": {},
   "outputs": [],
   "source": [
    "# GPIO 모드를 BCM으로 설정\n",
    "GPIO.setmode(GPIO.BCM)\n",
    "\n",
    "# 부저 핀을 출력 모드로 설정\n",
    "GPIO.setup(buzzer, GPIO.OUT)\n",
    "\n",
    "# 부저용 PWM 객체 생성, 초기 주파수는 2000Hz로 설정\n",
    "pwm = GPIO.PWM(buzzer, 2000)\n",
    "\n",
    "# PWM 신호 시작, 듀티사이클 35%로 설정\n",
    "pwm.start(35.0)\n",
    "\n",
    "# 0.5초 동안 대기 (소리가 나는 시간)\n",
    "time.sleep(0.5)\n",
    "\n",
    "# PWM 신호 중지\n",
    "pwm.stop()\n",
    "\n",
    "# 사용한 핀 정리\n",
    "GPIO.cleanup()"
   ]
  },
  {
   "cell_type": "code",
   "execution_count": 5,
   "id": "56e86e2c-ac6d-4de3-869f-963c5327c0bc",
   "metadata": {},
   "outputs": [],
   "source": [
    "GPIO.setmode(GPIO.BCM)\n",
    "\n",
    "GPIO.setup(buzzer, GPIO.OUT)\n",
    "\n",
    "pwm.start(35.0) \n",
    "\n",
    "time.sleep(1.5) # 0.5 -> 1.5\n",
    "\n",
    "pwm.stop()\n",
    "\n",
    "GPIO.cleanup()"
   ]
  },
  {
   "cell_type": "code",
   "execution_count": 6,
   "id": "8f7647fc-d87c-4dfc-be52-dd06f94f3057",
   "metadata": {},
   "outputs": [],
   "source": [
    "GPIO.setmode(GPIO.BCM)\n",
    "\n",
    "GPIO.setup(buzzer, GPIO.OUT)\n",
    "\n",
    "pwm.start(70.0) # 35.0 -> 70.0\n",
    "\n",
    "time.sleep(1.5)\n",
    "\n",
    "pwm.stop()\n",
    "\n",
    "GPIO.cleanup()"
   ]
  },
  {
   "cell_type": "code",
   "execution_count": 7,
   "id": "4c4d3177-de87-45a0-bd92-493d76e35ef1",
   "metadata": {},
   "outputs": [],
   "source": [
    "GPIO.setmode(GPIO.BCM)\n",
    "\n",
    "GPIO.setup(buzzer, GPIO.OUT)\n",
    "\n",
    "pwm.ChangeFrequency(500) # 2000 -> 500\n",
    "\n",
    "pwm.start(70.0)\n",
    "\n",
    "time.sleep(1.5)\n",
    "\n",
    "pwm.stop()\n",
    "\n",
    "GPIO.cleanup()"
   ]
  },
  {
   "cell_type": "code",
   "execution_count": 8,
   "id": "0205c76e-78f6-4116-b39d-edb8e6a71cba",
   "metadata": {},
   "outputs": [],
   "source": [
    "def play_note(frequency, duration):\n",
    "    #pwm = GPIO.PWM(buzzer, frequency)\n",
    "    pwm.start(50)\n",
    "    pwm.ChangeFrequency(frequency)\n",
    "    time.sleep(duration)\n",
    "    pwm.stop()"
   ]
  },
  {
   "cell_type": "code",
   "execution_count": 9,
   "id": "4943b223-61c8-4d84-a86a-a4a92755aecb",
   "metadata": {},
   "outputs": [],
   "source": [
    "def play_doremi():    \n",
    "    for frequency in [523, 587, 659]:\n",
    "        play_note(frequency, 0.5)\n",
    "\n",
    "GPIO.setmode(GPIO.BCM)\n",
    "GPIO.setup(buzzer, GPIO.OUT)\n",
    "\n",
    "play_doremi()"
   ]
  },
  {
   "cell_type": "code",
   "execution_count": null,
   "id": "d4891c6c-ad80-4a96-b612-5da848470047",
   "metadata": {},
   "outputs": [],
   "source": []
  }
 ],
 "metadata": {
  "kernelspec": {
   "display_name": "Python 3 (ipykernel)",
   "language": "python",
   "name": "python3"
  },
  "language_info": {
   "codemirror_mode": {
    "name": "ipython",
    "version": 3
   },
   "file_extension": ".py",
   "mimetype": "text/x-python",
   "name": "python",
   "nbconvert_exporter": "python",
   "pygments_lexer": "ipython3",
   "version": "3.11.2"
  }
 },
 "nbformat": 4,
 "nbformat_minor": 5
}
