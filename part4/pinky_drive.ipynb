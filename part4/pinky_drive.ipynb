{
 "cells": [
  {
   "cell_type": "code",
   "execution_count": null,
   "id": "8401a0c8-19df-4624-b160-a94f9be79cc9",
   "metadata": {},
   "outputs": [],
   "source": [
    "import numpy as np\n",
    "import cv2\n",
    "import time\n",
    "from picamera2 import Picamera2\n",
    "from pinkylib import Pinky, Camera, Yolo"
   ]
  },
  {
   "cell_type": "code",
   "execution_count": null,
   "id": "2fba7e04-aced-40f2-8966-963767fa2464",
   "metadata": {},
   "outputs": [],
   "source": [
    "APPLE = 0\n",
    "target_id_list = [8, 7, 11, 9]\n",
    "target_id_index = 0\n",
    "apple_ids = [7]\n",
    "turn_right_ids = [8, 11]\n",
    "end_id = 9\n",
    "pose = {\n",
    "    8 : [-0.55, 10],\n",
    "    7 : [2.6, 14],\n",
    "    11 : [-0.98, 16],\n",
    "    9 : [1.9, 9]\n",
    "}"
   ]
  },
  {
   "cell_type": "code",
   "execution_count": null,
   "id": "1163842c-f872-4e4c-b0d6-667f67687b6d",
   "metadata": {},
   "outputs": [],
   "source": [
    "pinky = Pinky()\n",
    "pinky.start_motor()\n",
    "pinky.enable_motor()"
   ]
  },
  {
   "cell_type": "code",
   "execution_count": null,
   "id": "8ee1405c-fc7e-4939-90bc-ccd975ad31c0",
   "metadata": {
    "scrolled": true
   },
   "outputs": [],
   "source": [
    "cam = Camera()\n",
    "cam.start()\n",
    "cam.set_calibration()"
   ]
  },
  {
   "cell_type": "code",
   "execution_count": null,
   "id": "2cfa03d2-afae-47ca-a818-ebc6ee909677",
   "metadata": {},
   "outputs": [],
   "source": [
    "yolo = Yolo()\n",
    "yolo.set_model(\"./best.pt\")"
   ]
  },
  {
   "cell_type": "code",
   "execution_count": null,
   "id": "ce2dd726-4801-42d7-b661-b0c370299c5f",
   "metadata": {},
   "outputs": [],
   "source": [
    "def find_aruco():\n",
    "    pinky.turn_right(30, 30)\n",
    "    time.sleep(0.2)\n",
    "    pinky.stop()\n",
    "    time.sleep(1)"
   ]
  },
  {
   "cell_type": "code",
   "execution_count": null,
   "id": "9d57d0b9-2dfe-4e1c-91d4-488561d30a37",
   "metadata": {},
   "outputs": [],
   "source": [
    "def turn_right():\n",
    "    pinky.turn_right(30, 30)\n",
    "    time.sleep(0.4)\n",
    "    pinky.stop()"
   ]
  },
  {
   "cell_type": "code",
   "execution_count": null,
   "id": "ca2d57a1-3380-403d-918d-ed480e412354",
   "metadata": {},
   "outputs": [],
   "source": [
    "def turn_180():\n",
    "    pinky.turn_right(30, 30)\n",
    "    time.sleep(1)\n",
    "    pinky.stop()"
   ]
  },
  {
   "cell_type": "code",
   "execution_count": null,
   "id": "657dfd32-0a7f-47a4-8ceb-ad44ead47c80",
   "metadata": {},
   "outputs": [],
   "source": [
    "def find_apple(frame):\n",
    "    global APPLE\n",
    "    pinky.stop()\n",
    "    clss, frame = yolo.detect_yolo(frame)\n",
    "    for i in clss:\n",
    "        if i == 0:\n",
    "            APPLE += 1\n",
    "\n",
    "    return frame"
   ]
  },
  {
   "cell_type": "code",
   "execution_count": null,
   "id": "daa54b19-2c55-44fa-a4f9-d4cc31e5eda2",
   "metadata": {},
   "outputs": [],
   "source": [
    "pinky.buzzer_start()\n",
    "pinky.buzzer(2)\n",
    "\n",
    "while True:\n",
    "    L, R = 0, 0\n",
    "    \n",
    "    frame = cam.get_frame()\n",
    "    \n",
    "    target_id = target_id_list[target_id_index]\n",
    "    target_x, target_z = pose[target_id]\n",
    "    print(f\"target id is {target_id}\")\n",
    "\n",
    "    aruco_pose = cam.detect_aruco_target(frame, target_id)\n",
    "    print(aruco_pose)\n",
    "    \n",
    "    if aruco_pose is not None:\n",
    "        aruco_x, aruco_z = aruco_pose[0], aruco_pose[2]\n",
    "        if target_z > aruco_z and target_x < aruco_x + 0.3 and target_x > aruco_x - 0.3:\n",
    "            print(\"stop\")\n",
    "            if target_id in turn_right_ids:\n",
    "                print(\"trun right\")\n",
    "                turn_right()\n",
    "            elif target_id  in apple_ids:\n",
    "                print(\"detect apple\")\n",
    "                frame = find_apple(frame)\n",
    "                print(f\"현재 인식한 사과 {APPLE} 개\")\n",
    "                print(\"turn 180\")\n",
    "                turn_180()\n",
    "            elif target_id == end_id:\n",
    "                print(\"fin\")\n",
    "                pinky.stop()\n",
    "                break\n",
    "            target_id_index += 1\n",
    "        else:\n",
    "            if target_z < aruco_z:\n",
    "                L, R = 25, 25\n",
    "            if target_x > aruco_x + 0.3:\n",
    "                L = 30\n",
    "            elif target_x < aruco_x - 0.3:\n",
    "                R = 30\n",
    "    else:\n",
    "        print(\"find aruco\")\n",
    "        find_aruco()\n",
    "    \n",
    "    pinky.move(L, R)\n",
    "\n",
    "    cam.display_jupyter(frame)\n",
    "    time.sleep(0.01)\n",
    "\n",
    "\n",
    "pinky.buzzer(2)"
   ]
  },
  {
   "cell_type": "code",
   "execution_count": null,
   "id": "f70e0d39-deeb-4264-9358-a7a05cb2c8c9",
   "metadata": {},
   "outputs": [],
   "source": []
  }
 ],
 "metadata": {
  "kernelspec": {
   "display_name": "Python 3 (ipykernel)",
   "language": "python",
   "name": "python3"
  },
  "language_info": {
   "codemirror_mode": {
    "name": "ipython",
    "version": 3
   },
   "file_extension": ".py",
   "mimetype": "text/x-python",
   "name": "python",
   "nbconvert_exporter": "python",
   "pygments_lexer": "ipython3",
   "version": "3.11.2"
  }
 },
 "nbformat": 4,
 "nbformat_minor": 5
}
