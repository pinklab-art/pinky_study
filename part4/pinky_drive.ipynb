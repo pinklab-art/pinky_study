{
 "cells": [
  {
   "cell_type": "code",
   "execution_count": null,
   "id": "8401a0c8-19df-4624-b160-a94f9be79cc9",
   "metadata": {},
   "outputs": [],
   "source": [
    "import cv2\n",
    "import time\n",
    "from pinkylib import Pinky, Camera\n",
    "from pinkylib.yolo import Yolo"
   ]
  },
  {
   "cell_type": "code",
   "execution_count": null,
   "id": "2fba7e04-aced-40f2-8966-963767fa2464",
   "metadata": {},
   "outputs": [],
   "source": [
    "APPLE = 0 # 사과 갯수를 저장할 변수\n",
    "target_id_list = [8, 7, 11, 9] #아루코마커 주행 순서 id 리스트 [교차로진입, 사과나무, 교차로이탈, 종료]\n",
    "target_id_index = 0 #target_id_list의 \n",
    "apple_ids = [7] # 사과나무가 있는 아루코마커 id 인덱스 (목표 좌표 도착시 1씩 증가)\n",
    "turn_right_ids = [8, 11] # 설정된 좌표에 도착할 시 오른쪽 회전 동작하는 아루코마커 id 리스트\n",
    "end_id = 9 # 주행 종료 id 설정\n",
    "pose = {             # 마커 id의 도착 위치 설정 { [x,z]좌표 (x는 마커와 로봇의 좌우 좌표, z는 거리)}\n",
    "    8 : [0.33, 20],\n",
    "    7 : [2.6, 14],\n",
    "    11 : [-0.98, 16],\n",
    "    9 : [1.9, 9]\n",
    "}"
   ]
  },
  {
   "cell_type": "code",
   "execution_count": null,
   "id": "1163842c-f872-4e4c-b0d6-667f67687b6d",
   "metadata": {},
   "outputs": [],
   "source": [
    "pinky = Pinky()\n",
    "pinky.start_motor()\n",
    "pinky.enable_motor()"
   ]
  },
  {
   "cell_type": "code",
   "execution_count": null,
   "id": "8ee1405c-fc7e-4939-90bc-ccd975ad31c0",
   "metadata": {
    "scrolled": true
   },
   "outputs": [],
   "source": [
    "cam = Camera()\n",
    "cam.start()\n",
    "cam.set_calibration()"
   ]
  },
  {
   "cell_type": "code",
   "execution_count": null,
   "id": "2cfa03d2-afae-47ca-a818-ebc6ee909677",
   "metadata": {},
   "outputs": [],
   "source": [
    "yolo = Yolo()\n",
    "yolo.set_model(\"./best.pt\")"
   ]
  },
  {
   "cell_type": "code",
   "execution_count": null,
   "id": "ce2dd726-4801-42d7-b661-b0c370299c5f",
   "metadata": {},
   "outputs": [],
   "source": [
    "\n",
    "def find_aruco():\n",
    "    pinky.turn_right(30, 30)\n",
    "    time.sleep(0.2)\n",
    "    pinky.stop()\n",
    "    time.sleep(1)"
   ]
  },
  {
   "cell_type": "code",
   "execution_count": null,
   "id": "9d57d0b9-2dfe-4e1c-91d4-488561d30a37",
   "metadata": {},
   "outputs": [],
   "source": [
    "def turn_right():\n",
    "    pinky.turn_right(30, 30)\n",
    "    time.sleep(0.4)\n",
    "    pinky.stop()"
   ]
  },
  {
   "cell_type": "code",
   "execution_count": null,
   "id": "ca2d57a1-3380-403d-918d-ed480e412354",
   "metadata": {},
   "outputs": [],
   "source": [
    "def turn_180():\n",
    "    pinky.turn_right(30, 30)\n",
    "    time.sleep(1)\n",
    "    pinky.stop()"
   ]
  },
  {
   "cell_type": "code",
   "execution_count": null,
   "id": "657dfd32-0a7f-47a4-8ceb-ad44ead47c80",
   "metadata": {},
   "outputs": [],
   "source": [
    "def find_apple(frame):\n",
    "    global APPLE\n",
    "    pinky.stop()\n",
    "    clss, frame = yolo.detect_yolo(frame)\n",
    "    for i in clss:\n",
    "        if i == 0:\n",
    "            APPLE += 1\n",
    "\n",
    "    return frame"
   ]
  },
  {
   "cell_type": "code",
   "execution_count": null,
   "id": "daa54b19-2c55-44fa-a4f9-d4cc31e5eda2",
   "metadata": {},
   "outputs": [],
   "source": [
    "# 시작 부저\n",
    "pinky.buzzer_start()\n",
    "pinky.buzzer(2)\n",
    "\n",
    "while True:\n",
    "    # 0으로 속도값 초기화\n",
    "    L, R = 0, 0\n",
    "    \n",
    "    frame = cam.get_frame()\n",
    "    \n",
    "    target_id = target_id_list[target_id_index] # 목표 아루코마커 id 설정\n",
    "    target_x, target_z = pose[target_id] # 목표 좌표 설정\n",
    "    print(f\"target id is {target_id}\")\n",
    "\n",
    "    aruco_pose, frame = cam.detect_aruco_target(frame, target_id, marker_size=0.036) #인식된 마커의 좌표\n",
    "    print(aruco_pose)\n",
    "    \n",
    "    # 인식된 마커가 있을 경우\n",
    "    if aruco_pose is not None:\n",
    "        # 인식된 마커와 로봇과의 x, z 좌표\n",
    "        aruco_x, aruco_z = aruco_pose[0], aruco_pose[2]\n",
    "        \n",
    "        # 로봇이 목표 z좌표안에 도착하고 목표 x좌표의 좌우 0.3 안에 위치하면 실행\n",
    "        # x좌표를 한 좌표를 목표로 설정해서 주행하면 좌우로 계속 흔들리면서 주행하므로 좌우 0.3 가중치 추가해서 흔들리면서 주행 방지\n",
    "        if aruco_z < target_z and aruco_x < target_x + 0.3 and aruco_x > target_x - 0.3 : \n",
    "            print(\"stop\")\n",
    "            \n",
    "            # target_id가 turn_right_ids에 있으면 실행\n",
    "            # 오른쪽으로 90도 회전\n",
    "            if target_id in turn_right_ids: \n",
    "                print(\"trun right\")\n",
    "                turn_right()\n",
    "            \n",
    "            # target_id가 apple_ids에 있으면 실행\n",
    "            # 사과 인식\n",
    "            elif target_id  in apple_ids:\n",
    "                print(\"detect apple\")\n",
    "                frame = find_apple(frame)\n",
    "                print(f\"현재 인식한 사과 {APPLE} 개\")\n",
    "                print(\"turn 180\")\n",
    "                turn_180()\n",
    "\n",
    "            # target_id가 end_id 이면 실행:\n",
    "            # 주행 종료\n",
    "            elif target_id == end_id:\n",
    "                print(\"fin\")\n",
    "                pinky.stop()\n",
    "                break\n",
    "            \n",
    "            # 도착시 실행되는 동작 수행 후 인덱스 증가(다음 타깃 id 설정)\n",
    "            target_id_index += 1\n",
    "        \n",
    "        else:\n",
    "            # 로봇과 아루코마커의 거리가 목표 거리보다 크면 직진 \n",
    "            if target_z < aruco_z:\n",
    "                L, R = 25, 25\n",
    "\n",
    "            # 로봇 기준으로 아루코마커가 목표 x좌표 보다 오른쪽에 있으면 오른쪽으로 주행\n",
    "            if aruco_x > target_x + 0.3:\n",
    "                L = 30\n",
    "            \n",
    "            # 로봇 기준으로 아루코마커가 목표 x좌표 보다 왼쪽에 있으면 왼쪽으로 주행\n",
    "            elif aruco_x < target_x - 0.3:\n",
    "                R = 30\n",
    "    \n",
    "    # 인식된 마커가 없을 때 실행\n",
    "    else:\n",
    "        print(\"find aruco\")\n",
    "        find_aruco()\n",
    "    \n",
    "    # 위 조건문들 바탕으로 나온 속도값으로 주행\n",
    "    pinky.move(L, R)\n",
    "\n",
    "    cam.display_jupyter(frame)\n",
    "    time.sleep(0.01)\n",
    "\n",
    "# 종료 부저\n",
    "pinky.buzzer(2)"
   ]
  },
  {
   "cell_type": "code",
   "execution_count": null,
   "id": "f70e0d39-deeb-4264-9358-a7a05cb2c8c9",
   "metadata": {},
   "outputs": [],
   "source": [
    "cam.close()"
   ]
  },
  {
   "cell_type": "code",
   "execution_count": null,
   "id": "cf2eceb2-a654-4041-9c96-2eb6c3ad83a9",
   "metadata": {},
   "outputs": [],
   "source": []
  }
 ],
 "metadata": {
  "kernelspec": {
   "display_name": "Python 3 (ipykernel)",
   "language": "python",
   "name": "python3"
  },
  "language_info": {
   "codemirror_mode": {
    "name": "ipython",
    "version": 3
   },
   "file_extension": ".py",
   "mimetype": "text/x-python",
   "name": "python",
   "nbconvert_exporter": "python",
   "pygments_lexer": "ipython3",
   "version": "3.10.12"
  }
 },
 "nbformat": 4,
 "nbformat_minor": 5
}
